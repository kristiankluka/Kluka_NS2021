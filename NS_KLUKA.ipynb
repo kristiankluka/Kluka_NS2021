{
  "nbformat": 4,
  "nbformat_minor": 0,
  "metadata": {
    "colab": {
      "name": "NS_KLUKA.ipynb",
      "provenance": [],
      "collapsed_sections": [],
      "toc_visible": true
    },
    "kernelspec": {
      "name": "python3",
      "display_name": "Python 3"
    },
    "language_info": {
      "name": "python"
    }
  },
  "cells": [
    {
      "cell_type": "markdown",
      "metadata": {
        "id": "SNqXz8-VBlpw"
      },
      "source": [
        "## O. Importy a načítanie datasetu\n"
      ]
    },
    {
      "cell_type": "code",
      "metadata": {
        "id": "okIJwhiJBQmu"
      },
      "source": [
        "import numpy as np\n",
        "import matplotlib.pyplot as plt\n",
        "import pandas as pd\n",
        "import seaborn as sns\n",
        "from sklearn.preprocessing import LabelEncoder\n",
        "from sklearn.preprocessing import StandardScaler, OneHotEncoder\n",
        "from sklearn.compose import ColumnTransformer\n",
        "from sklearn.pipeline import Pipeline\n",
        "from sklearn.model_selection import train_test_split\n",
        "from keras.models import Sequential\n",
        "from keras.layers import Dense\n",
        "from sklearn.metrics import confusion_matrix,  classification_report\n",
        "from keras.utils.vis_utils import plot_model\n"
      ],
      "execution_count": null,
      "outputs": []
    },
    {
      "cell_type": "code",
      "metadata": {
        "id": "zoWZPM4_BdI_",
        "colab": {
          "base_uri": "https://localhost:8080/",
          "height": 235
        },
        "outputId": "907d47d9-01cd-45dc-e856-a7be5e47cce0"
      },
      "source": [
        "#Import datasetu\n",
        "dataset = pd.read_csv('Churn_Modelling.csv', index_col='RowNumber')\n",
        "dataset.head()"
      ],
      "execution_count": null,
      "outputs": [
        {
          "output_type": "execute_result",
          "data": {
            "text/html": [
              "<div>\n",
              "<style scoped>\n",
              "    .dataframe tbody tr th:only-of-type {\n",
              "        vertical-align: middle;\n",
              "    }\n",
              "\n",
              "    .dataframe tbody tr th {\n",
              "        vertical-align: top;\n",
              "    }\n",
              "\n",
              "    .dataframe thead th {\n",
              "        text-align: right;\n",
              "    }\n",
              "</style>\n",
              "<table border=\"1\" class=\"dataframe\">\n",
              "  <thead>\n",
              "    <tr style=\"text-align: right;\">\n",
              "      <th></th>\n",
              "      <th>CustomerId</th>\n",
              "      <th>Surname</th>\n",
              "      <th>CreditScore</th>\n",
              "      <th>Geography</th>\n",
              "      <th>Gender</th>\n",
              "      <th>Age</th>\n",
              "      <th>Tenure</th>\n",
              "      <th>Balance</th>\n",
              "      <th>NumOfProducts</th>\n",
              "      <th>HasCrCard</th>\n",
              "      <th>IsActiveMember</th>\n",
              "      <th>EstimatedSalary</th>\n",
              "      <th>Exited</th>\n",
              "    </tr>\n",
              "    <tr>\n",
              "      <th>RowNumber</th>\n",
              "      <th></th>\n",
              "      <th></th>\n",
              "      <th></th>\n",
              "      <th></th>\n",
              "      <th></th>\n",
              "      <th></th>\n",
              "      <th></th>\n",
              "      <th></th>\n",
              "      <th></th>\n",
              "      <th></th>\n",
              "      <th></th>\n",
              "      <th></th>\n",
              "      <th></th>\n",
              "    </tr>\n",
              "  </thead>\n",
              "  <tbody>\n",
              "    <tr>\n",
              "      <th>1</th>\n",
              "      <td>15634602</td>\n",
              "      <td>Hargrave</td>\n",
              "      <td>619</td>\n",
              "      <td>France</td>\n",
              "      <td>Female</td>\n",
              "      <td>42</td>\n",
              "      <td>2</td>\n",
              "      <td>0.00</td>\n",
              "      <td>1</td>\n",
              "      <td>1</td>\n",
              "      <td>1</td>\n",
              "      <td>101348.88</td>\n",
              "      <td>1</td>\n",
              "    </tr>\n",
              "    <tr>\n",
              "      <th>2</th>\n",
              "      <td>15647311</td>\n",
              "      <td>Hill</td>\n",
              "      <td>608</td>\n",
              "      <td>Spain</td>\n",
              "      <td>Female</td>\n",
              "      <td>41</td>\n",
              "      <td>1</td>\n",
              "      <td>83807.86</td>\n",
              "      <td>1</td>\n",
              "      <td>0</td>\n",
              "      <td>1</td>\n",
              "      <td>112542.58</td>\n",
              "      <td>0</td>\n",
              "    </tr>\n",
              "    <tr>\n",
              "      <th>3</th>\n",
              "      <td>15619304</td>\n",
              "      <td>Onio</td>\n",
              "      <td>502</td>\n",
              "      <td>France</td>\n",
              "      <td>Female</td>\n",
              "      <td>42</td>\n",
              "      <td>8</td>\n",
              "      <td>159660.80</td>\n",
              "      <td>3</td>\n",
              "      <td>1</td>\n",
              "      <td>0</td>\n",
              "      <td>113931.57</td>\n",
              "      <td>1</td>\n",
              "    </tr>\n",
              "    <tr>\n",
              "      <th>4</th>\n",
              "      <td>15701354</td>\n",
              "      <td>Boni</td>\n",
              "      <td>699</td>\n",
              "      <td>France</td>\n",
              "      <td>Female</td>\n",
              "      <td>39</td>\n",
              "      <td>1</td>\n",
              "      <td>0.00</td>\n",
              "      <td>2</td>\n",
              "      <td>0</td>\n",
              "      <td>0</td>\n",
              "      <td>93826.63</td>\n",
              "      <td>0</td>\n",
              "    </tr>\n",
              "    <tr>\n",
              "      <th>5</th>\n",
              "      <td>15737888</td>\n",
              "      <td>Mitchell</td>\n",
              "      <td>850</td>\n",
              "      <td>Spain</td>\n",
              "      <td>Female</td>\n",
              "      <td>43</td>\n",
              "      <td>2</td>\n",
              "      <td>125510.82</td>\n",
              "      <td>1</td>\n",
              "      <td>1</td>\n",
              "      <td>1</td>\n",
              "      <td>79084.10</td>\n",
              "      <td>0</td>\n",
              "    </tr>\n",
              "  </tbody>\n",
              "</table>\n",
              "</div>"
            ],
            "text/plain": [
              "           CustomerId   Surname  ...  EstimatedSalary Exited\n",
              "RowNumber                        ...                        \n",
              "1            15634602  Hargrave  ...        101348.88      1\n",
              "2            15647311      Hill  ...        112542.58      0\n",
              "3            15619304      Onio  ...        113931.57      1\n",
              "4            15701354      Boni  ...         93826.63      0\n",
              "5            15737888  Mitchell  ...         79084.10      0\n",
              "\n",
              "[5 rows x 13 columns]"
            ]
          },
          "metadata": {
            "tags": []
          },
          "execution_count": 2
        }
      ]
    },
    {
      "cell_type": "markdown",
      "metadata": {
        "id": "aTMOp-L7EY7N"
      },
      "source": [
        "## 1. Príprava dát"
      ]
    },
    {
      "cell_type": "code",
      "metadata": {
        "colab": {
          "base_uri": "https://localhost:8080/"
        },
        "id": "8-VT16pqBj_1",
        "outputId": "607150a8-c69e-4e78-ad91-505a95857df0"
      },
      "source": [
        "# rozdelenie datasetu na dáta a hodnoty True/False (0,1), ktoré odkazujú na to \n",
        "# či zákazník opustil banku alebo nie.\n",
        "X_col = dataset.columns.tolist()[2:12]\n",
        "y_col = dataset.columns.tolist()[-1:]\n",
        "print('Dáta', X_col)\n",
        "print('True/False', y_col)"
      ],
      "execution_count": null,
      "outputs": [
        {
          "output_type": "stream",
          "text": [
            "Dáta ['CreditScore', 'Geography', 'Gender', 'Age', 'Tenure', 'Balance', 'NumOfProducts', 'HasCrCard', 'IsActiveMember', 'EstimatedSalary']\n",
            "True/False ['Exited']\n"
          ],
          "name": "stdout"
        }
      ]
    },
    {
      "cell_type": "code",
      "metadata": {
        "colab": {
          "base_uri": "https://localhost:8080/"
        },
        "id": "gCtjQF2IEH6c",
        "outputId": "305b3bf7-8d91-4278-e6e7-4b1e2f6f6985"
      },
      "source": [
        "# vytvorenie nummpy array z týchto stĺpcov\n",
        "X = dataset[X_col].values \n",
        "y = dataset[y_col].values\n",
        "X"
      ],
      "execution_count": null,
      "outputs": [
        {
          "output_type": "execute_result",
          "data": {
            "text/plain": [
              "array([[619, 'France', 'Female', ..., 1, 1, 101348.88],\n",
              "       [608, 'Spain', 'Female', ..., 0, 1, 112542.58],\n",
              "       [502, 'France', 'Female', ..., 1, 0, 113931.57],\n",
              "       ...,\n",
              "       [709, 'France', 'Female', ..., 0, 1, 42085.58],\n",
              "       [772, 'Germany', 'Male', ..., 1, 0, 92888.52],\n",
              "       [792, 'France', 'Female', ..., 1, 0, 38190.78]], dtype=object)"
            ]
          },
          "metadata": {
            "tags": []
          },
          "execution_count": 4
        }
      ]
    },
    {
      "cell_type": "markdown",
      "metadata": {
        "id": "xbJIXh0CFMbS"
      },
      "source": [
        "Ako môžeme vidieť tak dáta obsahujú aj kategorické premenné, ktoré treba nahradiť."
      ]
    },
    {
      "cell_type": "code",
      "metadata": {
        "colab": {
          "base_uri": "https://localhost:8080/"
        },
        "id": "KrcJ5Xl_Ep0k",
        "outputId": "dee91c62-df99-40ba-eb8e-814a543a5d1e"
      },
      "source": [
        "encoder = LabelEncoder()\n",
        "X[:,1] = encoder.fit_transform(X[:,1]) # zmena krajiny na hodnoty vhodné pre analýzu (0-France,1-Germany,2-Spain)\n",
        "print('Krajina: ')\n",
        "print(X[:,1])\n",
        "X[:,2] = encoder.fit_transform(X[:,2]) # zmena pohlavia na hodnoty vhodné pre analýzu (0-Female, 1-Male)\n",
        "print('Pohlavie: ')\n",
        "print(X[:,2])"
      ],
      "execution_count": null,
      "outputs": [
        {
          "output_type": "stream",
          "text": [
            "Krajina: \n",
            "[0 2 0 ... 0 1 0]\n",
            "Pohlavie: \n",
            "[0 0 0 ... 0 1 0]\n"
          ],
          "name": "stdout"
        }
      ]
    },
    {
      "cell_type": "code",
      "metadata": {
        "id": "B706wWbRFy89"
      },
      "source": [
        "# Pipeline - \n",
        "# StandardScaler - Normalizácia dát => zmena dát na jednu škálu \"vyrovnanie dát\", nakoľko dataset obsahuje \n",
        "# veľmi veľký rozsah hodnôť napr. výplaty sa pohybujú aj v státisícoch a tieto hodnoty by ovplyvnili výsledok\n",
        "# ColumnTransformer - trieda pre selektívne aplikovanie úpravy údajov, teda môžeme použiť transformáciu udajov na kategoricke premenne\n",
        "# OneHotEncoder - prevod celočíselných hodnôt na binárne \n",
        "# Country\t->\tCountry\t->\tSpain\tFrance\tGermany\n",
        "# Spain\t  ->\t  0\t    ->\t  1\t    0\t      0\n",
        "# France\t->\t  1\t    ->\t  0\t    1\t      0\n",
        "# France\t->  \t1     ->\t  0\t    1\t      0\n",
        "# Germany\t->\t  2\t    ->\t  0\t    0\t      1\n",
        "pipeline = Pipeline(\n",
        "    [('Categorizer', ColumnTransformer(\n",
        "         [(\"Pohlavie\", OneHotEncoder(categories='auto', drop='first'), [2]),\n",
        "          (\"Krajina\", OneHotEncoder(categories='auto', drop='first'), [1])\n",
        "         ], remainder='passthrough', n_jobs=1)),\n",
        "    ('Normalizer', StandardScaler())\n",
        "    ])"
      ],
      "execution_count": null,
      "outputs": []
    },
    {
      "cell_type": "code",
      "metadata": {
        "id": "JAIgJVIS-oEx"
      },
      "source": [
        ""
      ],
      "execution_count": null,
      "outputs": []
    },
    {
      "cell_type": "code",
      "metadata": {
        "id": "5Q99ux-DJCMD"
      },
      "source": [
        "X = pipeline.fit_transform(X)"
      ],
      "execution_count": null,
      "outputs": []
    },
    {
      "cell_type": "code",
      "metadata": {
        "id": "w3yED9QQJDlk"
      },
      "source": [
        "# Rozdelenie datasetu na testovacie a trénovacie dáta v pomere 30:70\n",
        "X_train, X_test, y_train, y_test = train_test_split(X,y, test_size = 0.3, random_state = 0) "
      ],
      "execution_count": null,
      "outputs": []
    },
    {
      "cell_type": "code",
      "metadata": {
        "id": "8iYBgXdgJ56r",
        "colab": {
          "base_uri": "https://localhost:8080/",
          "height": 296
        },
        "outputId": "9998dae1-3918-41a0-b09d-a9361b33abe5"
      },
      "source": [
        "data2 = dataset.drop(['CustomerId','Surname'],axis=1)\n",
        "sns.set_style('whitegrid')\n",
        "sns.countplot(x='Exited',data=data2,palette='RdBu_r')\n",
        "# je vidieť, že dáta nie sú veľmi vyvážené."
      ],
      "execution_count": null,
      "outputs": [
        {
          "output_type": "execute_result",
          "data": {
            "text/plain": [
              "<matplotlib.axes._subplots.AxesSubplot at 0x7fa0a2c9a9d0>"
            ]
          },
          "metadata": {
            "tags": []
          },
          "execution_count": 9
        },
        {
          "output_type": "display_data",
          "data": {
            "image/png": "[encoded data removed]",
            "text/plain": [
              "<Figure size 432x288 with 1 Axes>"
            ]
          },
          "metadata": {
            "tags": []
          }
        }
      ]
    },
    {
      "cell_type": "code",
      "metadata": {
        "colab": {
          "base_uri": "https://localhost:8080/",
          "height": 279
        },
        "id": "qDU78xyw-Ken",
        "outputId": "b076e999-afad-468c-a477-2818004eb438"
      },
      "source": [
        "plt.hist(data2.EstimatedSalary, bins=5\n",
        "         , rwidth=0.8)\n",
        "plt.xlabel('Plat')\n",
        "plt.ylabel('Počet zákazníkov')\n",
        "plt.show()\n",
        "# graf ukazujúci plat a prislúchajúci počet zákazníkov."
      ],
      "execution_count": null,
      "outputs": [
        {
          "output_type": "display_data",
          "data": {
            "image/png": "[encoded data removed]",
            "text/plain": [
              "<Figure size 432x288 with 1 Axes>"
            ]
          },
          "metadata": {
            "tags": []
          }
        }
      ]
    },
    {
      "cell_type": "markdown",
      "metadata": {
        "id": "J_vDH6oDByYC"
      },
      "source": [
        "##2. Vytvorenie NS"
      ]
    },
    {
      "cell_type": "code",
      "metadata": {
        "id": "WYNKc7u4_-Iq"
      },
      "source": [
        "# vytvárame sekvenčný model\n",
        "classifier = Sequential()"
      ],
      "execution_count": null,
      "outputs": []
    },
    {
      "cell_type": "code",
      "metadata": {
        "id": "ystzhUktAVe5",
        "colab": {
          "base_uri": "https://localhost:8080/"
        },
        "outputId": "98d78073-092b-4f3c-c00f-1a014a82ba21"
      },
      "source": [
        "# Vstupná vrstva a prvá skrytá vrstva\n",
        "# argumenty:\n",
        "# prvé číslo je výstupna dimenzia - 6\n",
        "# aktivačná funckia relu -  Jej predpis je R(z)=(0,z), takže záporné vstupy zmení na 0 a nezáporné hodnoty nechá bez zmeny\n",
        "# input_shape = 11 (11 stĺpcov)\n",
        "classifier.add(Dense(6, activation = 'relu',input_shape = (X_train.shape[1], )))\n",
        "# pridanie nasledujúcej skrytej vrstvy\n",
        "# prvé číslo je výstupna dimenzia - 6\n",
        "classifier.add(Dense(6, activation = 'relu')) \n",
        "# pridatnie výstupnej vrstvy\n",
        "# výstupná vrstva má 1 dimenziu\n",
        "# nelineárna funkcia sigmoid, ktorej výstupom už nie je len celé číslo 0 alebo 1, ale reálne číslo z intervalu (0,1).\n",
        "classifier.add(Dense(1, activation = 'sigmoid')) \n",
        "# výpis nášho kalsifikátora\n",
        "classifier.summary()"
      ],
      "execution_count": null,
      "outputs": [
        {
          "output_type": "stream",
          "text": [
            "Model: \"sequential\"\n",
            "_________________________________________________________________\n",
            "Layer (type)                 Output Shape              Param #   \n",
            "=================================================================\n",
            "dense (Dense)                (None, 6)                 72        \n",
            "_________________________________________________________________\n",
            "dense_1 (Dense)              (None, 6)                 42        \n",
            "_________________________________________________________________\n",
            "dense_2 (Dense)              (None, 1)                 7         \n",
            "=================================================================\n",
            "Total params: 121\n",
            "Trainable params: 121\n",
            "Non-trainable params: 0\n",
            "_________________________________________________________________\n"
          ],
          "name": "stdout"
        }
      ]
    },
    {
      "cell_type": "code",
      "metadata": {
        "id": "ECvINFGWKmxo"
      },
      "source": [
        "# optimalizátor - Algoritmus, ktorý chceme použiť na nájdenie optimálnej množiny váh v neurónových sieťach. Adam je veľmi účinná variácia stochastického gradientu.\n",
        "# binary_crossentropy - porovnáva každú z predpovedaných pravdepodobností s výstupom skutočnej triedy, ktorý môže byť buď 0 alebo 1. Potom vypočíta skóre,\n",
        "#                       ktoré pravdepodobnosti penalizuje, na základe vzdialenosti od očakávanej hodnoty. \n",
        "classifier.compile(optimizer='adam', loss = 'binary_crossentropy', metrics=['accuracy'])"
      ],
      "execution_count": null,
      "outputs": []
    },
    {
      "cell_type": "code",
      "metadata": {
        "colab": {
          "base_uri": "https://localhost:8080/"
        },
        "id": "YmIxOQcpL_CA",
        "outputId": "fa81639c-5f5b-4bd3-d67a-4b6bae6e3b40"
      },
      "source": [
        "# fit - spustenie trénovania\n",
        "# počet iterácií 100\n",
        "# batch_size 32 - výber dát po čiastkach \n",
        "trenovanie = classifier.fit(X_train, y_train, batch_size=32, epochs=100, validation_split=0.3, verbose=2)"
      ],
      "execution_count": null,
      "outputs": [
        {
          "output_type": "stream",
          "text": [
            "Epoch 1/100\n",
            "154/154 - 1s - loss: 0.6310 - accuracy: 0.6706 - val_loss: 0.5375 - val_accuracy: 0.7652\n",
            "Epoch 2/100\n",
            "154/154 - 0s - loss: 0.5049 - accuracy: 0.7863 - val_loss: 0.4822 - val_accuracy: 0.7986\n",
            "Epoch 3/100\n",
            "154/154 - 0s - loss: 0.4684 - accuracy: 0.7990 - val_loss: 0.4607 - val_accuracy: 0.8005\n",
            "Epoch 4/100\n",
            "154/154 - 0s - loss: 0.4504 - accuracy: 0.8022 - val_loss: 0.4469 - val_accuracy: 0.8024\n",
            "Epoch 5/100\n",
            "154/154 - 0s - loss: 0.4381 - accuracy: 0.8049 - val_loss: 0.4367 - val_accuracy: 0.8062\n",
            "Epoch 6/100\n",
            "154/154 - 0s - loss: 0.4282 - accuracy: 0.8086 - val_loss: 0.4289 - val_accuracy: 0.8100\n",
            "Epoch 7/100\n",
            "154/154 - 0s - loss: 0.4204 - accuracy: 0.8106 - val_loss: 0.4219 - val_accuracy: 0.8110\n",
            "Epoch 8/100\n",
            "154/154 - 0s - loss: 0.4129 - accuracy: 0.8137 - val_loss: 0.4160 - val_accuracy: 0.8138\n",
            "Epoch 9/100\n",
            "154/154 - 0s - loss: 0.4066 - accuracy: 0.8163 - val_loss: 0.4099 - val_accuracy: 0.8152\n",
            "Epoch 10/100\n",
            "154/154 - 0s - loss: 0.4004 - accuracy: 0.8182 - val_loss: 0.4045 - val_accuracy: 0.8157\n",
            "Epoch 11/100\n",
            "154/154 - 0s - loss: 0.3941 - accuracy: 0.8182 - val_loss: 0.3986 - val_accuracy: 0.8176\n",
            "Epoch 12/100\n",
            "154/154 - 0s - loss: 0.3880 - accuracy: 0.8190 - val_loss: 0.3931 - val_accuracy: 0.8167\n",
            "Epoch 13/100\n",
            "154/154 - 0s - loss: 0.3821 - accuracy: 0.8198 - val_loss: 0.3875 - val_accuracy: 0.8200\n",
            "Epoch 14/100\n",
            "154/154 - 0s - loss: 0.3768 - accuracy: 0.8208 - val_loss: 0.3828 - val_accuracy: 0.8200\n",
            "Epoch 15/100\n",
            "154/154 - 0s - loss: 0.3724 - accuracy: 0.8212 - val_loss: 0.3785 - val_accuracy: 0.8214\n",
            "Epoch 16/100\n",
            "154/154 - 0s - loss: 0.3684 - accuracy: 0.8216 - val_loss: 0.3752 - val_accuracy: 0.8338\n",
            "Epoch 17/100\n",
            "154/154 - 0s - loss: 0.3646 - accuracy: 0.8439 - val_loss: 0.3716 - val_accuracy: 0.8400\n",
            "Epoch 18/100\n",
            "154/154 - 0s - loss: 0.3614 - accuracy: 0.8443 - val_loss: 0.3707 - val_accuracy: 0.8400\n",
            "Epoch 19/100\n",
            "154/154 - 0s - loss: 0.3590 - accuracy: 0.8447 - val_loss: 0.3674 - val_accuracy: 0.8429\n",
            "Epoch 20/100\n",
            "154/154 - 0s - loss: 0.3569 - accuracy: 0.8486 - val_loss: 0.3669 - val_accuracy: 0.8438\n",
            "Epoch 21/100\n",
            "154/154 - 0s - loss: 0.3554 - accuracy: 0.8504 - val_loss: 0.3650 - val_accuracy: 0.8448\n",
            "Epoch 22/100\n",
            "154/154 - 0s - loss: 0.3535 - accuracy: 0.8500 - val_loss: 0.3645 - val_accuracy: 0.8495\n",
            "Epoch 23/100\n",
            "154/154 - 0s - loss: 0.3524 - accuracy: 0.8531 - val_loss: 0.3634 - val_accuracy: 0.8510\n",
            "Epoch 24/100\n",
            "154/154 - 0s - loss: 0.3512 - accuracy: 0.8533 - val_loss: 0.3628 - val_accuracy: 0.8529\n",
            "Epoch 25/100\n",
            "154/154 - 0s - loss: 0.3499 - accuracy: 0.8551 - val_loss: 0.3621 - val_accuracy: 0.8514\n",
            "Epoch 26/100\n",
            "154/154 - 0s - loss: 0.3492 - accuracy: 0.8565 - val_loss: 0.3612 - val_accuracy: 0.8533\n",
            "Epoch 27/100\n",
            "154/154 - 0s - loss: 0.3484 - accuracy: 0.8573 - val_loss: 0.3615 - val_accuracy: 0.8514\n",
            "Epoch 28/100\n",
            "154/154 - 0s - loss: 0.3475 - accuracy: 0.8573 - val_loss: 0.3603 - val_accuracy: 0.8524\n",
            "Epoch 29/100\n",
            "154/154 - 0s - loss: 0.3473 - accuracy: 0.8561 - val_loss: 0.3600 - val_accuracy: 0.8524\n",
            "Epoch 30/100\n",
            "154/154 - 0s - loss: 0.3464 - accuracy: 0.8569 - val_loss: 0.3596 - val_accuracy: 0.8524\n",
            "Epoch 31/100\n",
            "154/154 - 0s - loss: 0.3459 - accuracy: 0.8571 - val_loss: 0.3604 - val_accuracy: 0.8514\n",
            "Epoch 32/100\n",
            "154/154 - 0s - loss: 0.3452 - accuracy: 0.8569 - val_loss: 0.3592 - val_accuracy: 0.8524\n",
            "Epoch 33/100\n",
            "154/154 - 0s - loss: 0.3449 - accuracy: 0.8576 - val_loss: 0.3592 - val_accuracy: 0.8490\n",
            "Epoch 34/100\n",
            "154/154 - 0s - loss: 0.3446 - accuracy: 0.8588 - val_loss: 0.3591 - val_accuracy: 0.8524\n",
            "Epoch 35/100\n",
            "154/154 - 0s - loss: 0.3443 - accuracy: 0.8598 - val_loss: 0.3586 - val_accuracy: 0.8543\n",
            "Epoch 36/100\n",
            "154/154 - 0s - loss: 0.3439 - accuracy: 0.8596 - val_loss: 0.3588 - val_accuracy: 0.8552\n",
            "Epoch 37/100\n",
            "154/154 - 0s - loss: 0.3433 - accuracy: 0.8600 - val_loss: 0.3589 - val_accuracy: 0.8557\n",
            "Epoch 38/100\n",
            "154/154 - 0s - loss: 0.3436 - accuracy: 0.8614 - val_loss: 0.3574 - val_accuracy: 0.8562\n",
            "Epoch 39/100\n",
            "154/154 - 0s - loss: 0.3425 - accuracy: 0.8594 - val_loss: 0.3572 - val_accuracy: 0.8552\n",
            "Epoch 40/100\n",
            "154/154 - 0s - loss: 0.3425 - accuracy: 0.8592 - val_loss: 0.3575 - val_accuracy: 0.8581\n",
            "Epoch 41/100\n",
            "154/154 - 0s - loss: 0.3423 - accuracy: 0.8602 - val_loss: 0.3564 - val_accuracy: 0.8571\n",
            "Epoch 42/100\n",
            "154/154 - 0s - loss: 0.3419 - accuracy: 0.8606 - val_loss: 0.3567 - val_accuracy: 0.8571\n",
            "Epoch 43/100\n",
            "154/154 - 0s - loss: 0.3416 - accuracy: 0.8600 - val_loss: 0.3572 - val_accuracy: 0.8581\n",
            "Epoch 44/100\n",
            "154/154 - 0s - loss: 0.3409 - accuracy: 0.8596 - val_loss: 0.3557 - val_accuracy: 0.8576\n",
            "Epoch 45/100\n",
            "154/154 - 0s - loss: 0.3410 - accuracy: 0.8594 - val_loss: 0.3555 - val_accuracy: 0.8586\n",
            "Epoch 46/100\n",
            "154/154 - 0s - loss: 0.3404 - accuracy: 0.8604 - val_loss: 0.3554 - val_accuracy: 0.8605\n",
            "Epoch 47/100\n",
            "154/154 - 0s - loss: 0.3397 - accuracy: 0.8610 - val_loss: 0.3544 - val_accuracy: 0.8610\n",
            "Epoch 48/100\n",
            "154/154 - 0s - loss: 0.3394 - accuracy: 0.8616 - val_loss: 0.3540 - val_accuracy: 0.8605\n",
            "Epoch 49/100\n",
            "154/154 - 0s - loss: 0.3388 - accuracy: 0.8612 - val_loss: 0.3540 - val_accuracy: 0.8590\n",
            "Epoch 50/100\n",
            "154/154 - 0s - loss: 0.3385 - accuracy: 0.8610 - val_loss: 0.3539 - val_accuracy: 0.8619\n",
            "Epoch 51/100\n",
            "154/154 - 0s - loss: 0.3381 - accuracy: 0.8608 - val_loss: 0.3554 - val_accuracy: 0.8619\n",
            "Epoch 52/100\n",
            "154/154 - 0s - loss: 0.3380 - accuracy: 0.8602 - val_loss: 0.3536 - val_accuracy: 0.8619\n",
            "Epoch 53/100\n",
            "154/154 - 0s - loss: 0.3373 - accuracy: 0.8594 - val_loss: 0.3531 - val_accuracy: 0.8638\n",
            "Epoch 54/100\n",
            "154/154 - 0s - loss: 0.3371 - accuracy: 0.8604 - val_loss: 0.3539 - val_accuracy: 0.8629\n",
            "Epoch 55/100\n",
            "154/154 - 0s - loss: 0.3369 - accuracy: 0.8606 - val_loss: 0.3534 - val_accuracy: 0.8629\n",
            "Epoch 56/100\n",
            "154/154 - 0s - loss: 0.3366 - accuracy: 0.8616 - val_loss: 0.3538 - val_accuracy: 0.8629\n",
            "Epoch 57/100\n",
            "154/154 - 0s - loss: 0.3363 - accuracy: 0.8610 - val_loss: 0.3539 - val_accuracy: 0.8624\n",
            "Epoch 58/100\n",
            "154/154 - 0s - loss: 0.3358 - accuracy: 0.8612 - val_loss: 0.3535 - val_accuracy: 0.8633\n",
            "Epoch 59/100\n",
            "154/154 - 0s - loss: 0.3353 - accuracy: 0.8616 - val_loss: 0.3523 - val_accuracy: 0.8629\n",
            "Epoch 60/100\n",
            "154/154 - 0s - loss: 0.3355 - accuracy: 0.8629 - val_loss: 0.3521 - val_accuracy: 0.8619\n",
            "Epoch 61/100\n",
            "154/154 - 0s - loss: 0.3349 - accuracy: 0.8606 - val_loss: 0.3531 - val_accuracy: 0.8610\n",
            "Epoch 62/100\n",
            "154/154 - 0s - loss: 0.3352 - accuracy: 0.8600 - val_loss: 0.3522 - val_accuracy: 0.8600\n",
            "Epoch 63/100\n",
            "154/154 - 0s - loss: 0.3346 - accuracy: 0.8610 - val_loss: 0.3520 - val_accuracy: 0.8614\n",
            "Epoch 64/100\n",
            "154/154 - 0s - loss: 0.3348 - accuracy: 0.8631 - val_loss: 0.3523 - val_accuracy: 0.8600\n",
            "Epoch 65/100\n",
            "154/154 - 0s - loss: 0.3343 - accuracy: 0.8612 - val_loss: 0.3523 - val_accuracy: 0.8610\n",
            "Epoch 66/100\n",
            "154/154 - 0s - loss: 0.3336 - accuracy: 0.8633 - val_loss: 0.3515 - val_accuracy: 0.8605\n",
            "Epoch 67/100\n",
            "154/154 - 0s - loss: 0.3336 - accuracy: 0.8616 - val_loss: 0.3514 - val_accuracy: 0.8614\n",
            "Epoch 68/100\n",
            "154/154 - 0s - loss: 0.3331 - accuracy: 0.8635 - val_loss: 0.3530 - val_accuracy: 0.8600\n",
            "Epoch 69/100\n",
            "154/154 - 0s - loss: 0.3333 - accuracy: 0.8622 - val_loss: 0.3515 - val_accuracy: 0.8571\n",
            "Epoch 70/100\n",
            "154/154 - 0s - loss: 0.3328 - accuracy: 0.8620 - val_loss: 0.3515 - val_accuracy: 0.8581\n",
            "Epoch 71/100\n",
            "154/154 - 0s - loss: 0.3324 - accuracy: 0.8622 - val_loss: 0.3517 - val_accuracy: 0.8571\n",
            "Epoch 72/100\n",
            "154/154 - 0s - loss: 0.3321 - accuracy: 0.8633 - val_loss: 0.3508 - val_accuracy: 0.8590\n",
            "Epoch 73/100\n",
            "154/154 - 0s - loss: 0.3322 - accuracy: 0.8622 - val_loss: 0.3503 - val_accuracy: 0.8586\n",
            "Epoch 74/100\n",
            "154/154 - 0s - loss: 0.3322 - accuracy: 0.8622 - val_loss: 0.3509 - val_accuracy: 0.8595\n",
            "Epoch 75/100\n",
            "154/154 - 0s - loss: 0.3317 - accuracy: 0.8631 - val_loss: 0.3505 - val_accuracy: 0.8576\n",
            "Epoch 76/100\n",
            "154/154 - 0s - loss: 0.3318 - accuracy: 0.8629 - val_loss: 0.3505 - val_accuracy: 0.8586\n",
            "Epoch 77/100\n",
            "154/154 - 0s - loss: 0.3313 - accuracy: 0.8631 - val_loss: 0.3511 - val_accuracy: 0.8590\n",
            "Epoch 78/100\n",
            "154/154 - 0s - loss: 0.3313 - accuracy: 0.8635 - val_loss: 0.3504 - val_accuracy: 0.8562\n",
            "Epoch 79/100\n",
            "154/154 - 0s - loss: 0.3316 - accuracy: 0.8629 - val_loss: 0.3508 - val_accuracy: 0.8543\n",
            "Epoch 80/100\n",
            "154/154 - 0s - loss: 0.3309 - accuracy: 0.8643 - val_loss: 0.3513 - val_accuracy: 0.8571\n",
            "Epoch 81/100\n",
            "154/154 - 0s - loss: 0.3307 - accuracy: 0.8643 - val_loss: 0.3507 - val_accuracy: 0.8567\n",
            "Epoch 82/100\n",
            "154/154 - 0s - loss: 0.3305 - accuracy: 0.8647 - val_loss: 0.3532 - val_accuracy: 0.8571\n",
            "Epoch 83/100\n",
            "154/154 - 0s - loss: 0.3306 - accuracy: 0.8633 - val_loss: 0.3515 - val_accuracy: 0.8557\n",
            "Epoch 84/100\n",
            "154/154 - 0s - loss: 0.3305 - accuracy: 0.8631 - val_loss: 0.3509 - val_accuracy: 0.8543\n",
            "Epoch 85/100\n",
            "154/154 - 0s - loss: 0.3303 - accuracy: 0.8645 - val_loss: 0.3516 - val_accuracy: 0.8557\n",
            "Epoch 86/100\n",
            "154/154 - 0s - loss: 0.3300 - accuracy: 0.8645 - val_loss: 0.3508 - val_accuracy: 0.8552\n",
            "Epoch 87/100\n",
            "154/154 - 0s - loss: 0.3301 - accuracy: 0.8627 - val_loss: 0.3514 - val_accuracy: 0.8567\n",
            "Epoch 88/100\n",
            "154/154 - 0s - loss: 0.3300 - accuracy: 0.8627 - val_loss: 0.3507 - val_accuracy: 0.8571\n",
            "Epoch 89/100\n",
            "154/154 - 0s - loss: 0.3300 - accuracy: 0.8643 - val_loss: 0.3522 - val_accuracy: 0.8562\n",
            "Epoch 90/100\n",
            "154/154 - 0s - loss: 0.3304 - accuracy: 0.8610 - val_loss: 0.3509 - val_accuracy: 0.8562\n",
            "Epoch 91/100\n",
            "154/154 - 0s - loss: 0.3296 - accuracy: 0.8622 - val_loss: 0.3510 - val_accuracy: 0.8548\n",
            "Epoch 92/100\n",
            "154/154 - 0s - loss: 0.3297 - accuracy: 0.8643 - val_loss: 0.3506 - val_accuracy: 0.8562\n",
            "Epoch 93/100\n",
            "154/154 - 0s - loss: 0.3296 - accuracy: 0.8622 - val_loss: 0.3527 - val_accuracy: 0.8562\n",
            "Epoch 94/100\n",
            "154/154 - 0s - loss: 0.3293 - accuracy: 0.8622 - val_loss: 0.3518 - val_accuracy: 0.8538\n",
            "Epoch 95/100\n",
            "154/154 - 0s - loss: 0.3295 - accuracy: 0.8620 - val_loss: 0.3509 - val_accuracy: 0.8552\n",
            "Epoch 96/100\n",
            "154/154 - 0s - loss: 0.3293 - accuracy: 0.8633 - val_loss: 0.3509 - val_accuracy: 0.8562\n",
            "Epoch 97/100\n",
            "154/154 - 0s - loss: 0.3291 - accuracy: 0.8633 - val_loss: 0.3519 - val_accuracy: 0.8567\n",
            "Epoch 98/100\n",
            "154/154 - 0s - loss: 0.3295 - accuracy: 0.8639 - val_loss: 0.3512 - val_accuracy: 0.8571\n",
            "Epoch 99/100\n",
            "154/154 - 0s - loss: 0.3292 - accuracy: 0.8647 - val_loss: 0.3510 - val_accuracy: 0.8567\n",
            "Epoch 100/100\n",
            "154/154 - 0s - loss: 0.3292 - accuracy: 0.8624 - val_loss: 0.3509 - val_accuracy: 0.8562\n"
          ],
          "name": "stdout"
        }
      ]
    },
    {
      "cell_type": "markdown",
      "metadata": {
        "id": "XPe55MIbya8E"
      },
      "source": [
        "##3. Vizualizácia"
      ]
    },
    {
      "cell_type": "code",
      "metadata": {
        "colab": {
          "base_uri": "https://localhost:8080/",
          "height": 295
        },
        "id": "Hz5_ZCCAVht4",
        "outputId": "dcac7962-a3d4-4fc0-e080-587152bd8548"
      },
      "source": [
        "plt.plot(trenovanie.history['accuracy'])\n",
        "plt.plot(trenovanie.history['val_accuracy'])\n",
        "plt.ylabel('Presnosť')\n",
        "plt.xlabel('Iterácia')\n",
        "plt.title('Presnost modelu')\n",
        "plt.legend(['Train', 'Test'], loc='lower right')\n",
        "plt.show()\n",
        "# Graf presnosti modelu ukazuje 'accuracy' trenovacích a testovacích dát"
      ],
      "execution_count": null,
      "outputs": [
        {
          "output_type": "display_data",
          "data": {
            "image/png": "[encoded data removed]",
            "text/plain": [
              "<Figure size 432x288 with 1 Axes>"
            ]
          },
          "metadata": {
            "tags": []
          }
        }
      ]
    },
    {
      "cell_type": "code",
      "metadata": {
        "colab": {
          "base_uri": "https://localhost:8080/",
          "height": 295
        },
        "id": "m8GUaLiVME84",
        "outputId": "3a583f6d-b733-4e5c-d724-667cc2b32251"
      },
      "source": [
        "plt.plot(trenovanie.history['loss']) \n",
        "plt.plot(trenovanie.history['val_loss']) \n",
        "plt.ylabel('Chyba') \n",
        "plt.xlabel('Iterácia')\n",
        "plt.title('Chyba') \n",
        "plt.legend(['Train', 'Test'], loc='upper right') \n",
        "plt.show()\n",
        "# Graf chýb modelu ukazuje chybovosť trenovacích a testovacích dát"
      ],
      "execution_count": null,
      "outputs": [
        {
          "output_type": "display_data",
          "data": {
            "image/png": "[encoded data removed]",
            "text/plain": [
              "<Figure size 432x288 with 1 Axes>"
            ]
          },
          "metadata": {
            "tags": []
          }
        }
      ]
    },
    {
      "cell_type": "code",
      "metadata": {
        "id": "ELD5Xb0NyxNy",
        "colab": {
          "base_uri": "https://localhost:8080/"
        },
        "outputId": "9f1681aa-d9bc-43c4-94f0-7eb73f877620"
      },
      "source": [
        "# Určenie pravdepodobnosti\n",
        "# Použijeme teda medznú hodnotu 0,5 na označenie, či je pravdepodobné, že odíde alebo nie.\n",
        "y_pred = classifier.predict(X_test)\n",
        "print(y_pred[:5])\n",
        "y_pred = (y_pred > 0.5).astype(int)\n",
        "print(y_pred[:5])"
      ],
      "execution_count": null,
      "outputs": [
        {
          "output_type": "stream",
          "text": [
            "[[0.30644718]\n",
            " [0.31477565]\n",
            " [0.11224836]\n",
            " [0.09692526]\n",
            " [0.09885946]]\n",
            "[[0]\n",
            " [0]\n",
            " [0]\n",
            " [0]\n",
            " [0]]\n"
          ],
          "name": "stdout"
        }
      ]
    },
    {
      "cell_type": "code",
      "metadata": {
        "id": "1DRWnN1Mx35u"
      },
      "source": [
        "# vytvorenie confusion matrix\n",
        "cm = confusion_matrix(y_test, y_pred)"
      ],
      "execution_count": null,
      "outputs": []
    },
    {
      "cell_type": "code",
      "metadata": {
        "colab": {
          "base_uri": "https://localhost:8080/",
          "height": 284
        },
        "id": "iOZSituzx9L1",
        "outputId": "05768441-30d5-4f01-f89b-4a019e254afa"
      },
      "source": [
        "# Heatmapa alebo teda confusion matrix znázornuje správnosť výsledkov\n",
        "# 2276 odhadlo správne, že zákazník neodíde z banky avšak 103 zaradilo nesprávne.\n",
        "# 300 odhadlo správne, že zákazník odíde z banky avšak 321 odhadlo nesprávne\n",
        "# to značí, že aj keď je celková pravdepodovnosť vysoká tak pri takto nevyrovnaných dátach toto nie je úplne správny výsledok\n",
        "sns.heatmap(cm,annot=True,fmt='g')"
      ],
      "execution_count": null,
      "outputs": [
        {
          "output_type": "execute_result",
          "data": {
            "text/plain": [
              "<matplotlib.axes._subplots.AxesSubplot at 0x7fa0537ec950>"
            ]
          },
          "metadata": {
            "tags": []
          },
          "execution_count": 19
        },
        {
          "output_type": "display_data",
          "data": {
            "image/png": "[encoded data removed]",
            "text/plain": [
              "<Figure size 432x288 with 2 Axes>"
            ]
          },
          "metadata": {
            "tags": []
          }
        }
      ]
    },
    {
      "cell_type": "code",
      "metadata": {
        "colab": {
          "base_uri": "https://localhost:8080/"
        },
        "id": "Ra6HNW2cyQ2N",
        "outputId": "be87fd38-579a-4d4c-8714-9037e201d67e"
      },
      "source": [
        "# Ak sa pozrieme na report tak dúležitým prvkom je F1 score \n",
        "# F1- score hovorí o váženom priemere presnosti a opätovného zapamätania, kde skóre F1 dosahuje najlepšiu hodnotu pri 1 a najhoršie skóre pri 0.\n",
        "# čiže dáta treba upraviť a vyrovnať score pre obe možnosti\n",
        "print(classification_report(y_test, y_pred))"
      ],
      "execution_count": null,
      "outputs": [
        {
          "output_type": "stream",
          "text": [
            "              precision    recall  f1-score   support\n",
            "\n",
            "           0       0.88      0.96      0.91      2379\n",
            "           1       0.74      0.48      0.59       621\n",
            "\n",
            "    accuracy                           0.86      3000\n",
            "   macro avg       0.81      0.72      0.75      3000\n",
            "weighted avg       0.85      0.86      0.85      3000\n",
            "\n"
          ],
          "name": "stdout"
        }
      ]
    },
    {
      "cell_type": "markdown",
      "metadata": {
        "id": "aozOfPovQHFH"
      },
      "source": [
        "## 4. Zlepšenie výsledkov\n"
      ]
    },
    {
      "cell_type": "code",
      "metadata": {
        "colab": {
          "base_uri": "https://localhost:8080/"
        },
        "id": "lh57g-Uny5BN",
        "outputId": "65fb8f8f-8545-4c3d-cd15-61628aa6c722"
      },
      "source": [
        "from sklearn.linear_model import LogisticRegression\n",
        "# overenie výsledkov pomocou logistic regression\n",
        "# je špecifický typ regresnej analýzy, pri ktorej je závislá premenná v nominálnej forme a nadobúda dve hodnoty, zvyčajne kódované ako  0 alebo 1.\n",
        "# vidíme, že aj v tomto prípade je pre odchod znova nízke F1 score\n",
        "lr = LogisticRegression()\n",
        "lr.fit(X_train, y_train)\n",
        "y_pred = lr.predict(X_test)\n",
        "print(classification_report(y_test, y_pred))"
      ],
      "execution_count": null,
      "outputs": [
        {
          "output_type": "stream",
          "text": [
            "              precision    recall  f1-score   support\n",
            "\n",
            "           0       0.83      0.96      0.89      2379\n",
            "           1       0.58      0.23      0.33       621\n",
            "\n",
            "    accuracy                           0.81      3000\n",
            "   macro avg       0.71      0.59      0.61      3000\n",
            "weighted avg       0.78      0.81      0.77      3000\n",
            "\n"
          ],
          "name": "stdout"
        },
        {
          "output_type": "stream",
          "text": [
            "/usr/local/lib/python3.7/dist-packages/sklearn/utils/validation.py:760: DataConversionWarning: A column-vector y was passed when a 1d array was expected. Please change the shape of y to (n_samples, ), for example using ravel().\n",
            "  y = column_or_1d(y, warn=True)\n"
          ],
          "name": "stderr"
        }
      ]
    },
    {
      "cell_type": "code",
      "metadata": {
        "colab": {
          "base_uri": "https://localhost:8080/"
        },
        "id": "e_P-x4Vn1LXG",
        "outputId": "e974ab69-6ef0-49ba-b9b3-81293a907533"
      },
      "source": [
        "from imblearn.over_sampling import SMOTE\n",
        "# SMOTE funguje tak, že vyberá príklady, ktoré sú blízko v priestore funkcií, kreslí čiaru medzi príkladmi v priestore funkcií a kreslí novú vzorku v bode pozdĺž tejto čiary.\n",
        "# Konkrétne je najskôr vybraný náhodný príklad z triedy menšín. Potom sa nájde k najbližších susedov pre tento príklad (zvyčajne k = 5).\n",
        "# Vyberie sa náhodne vybraný sused a v náhodne vybranom bode medzi dvoma príkladmi v priestore znakov sa vytvorí syntetický príklad.\n",
        "smote = SMOTE(sampling_strategy='minority')\n",
        "x_new, y_new = smote.fit_resample(X, np.ravel(y))\n",
        "x_train, x_test, y_train, y_test = train_test_split(x_new, y_new, test_size=0.2, stratify=y_new)"
      ],
      "execution_count": null,
      "outputs": [
        {
          "output_type": "stream",
          "text": [
            "/usr/local/lib/python3.7/dist-packages/sklearn/externals/six.py:31: FutureWarning: The module is deprecated in version 0.21 and will be removed in version 0.23 since we've dropped support for Python 2.7. Please rely on the official version of six (https://pypi.org/project/six/).\n",
            "  \"(https://pypi.org/project/six/).\", FutureWarning)\n",
            "/usr/local/lib/python3.7/dist-packages/sklearn/utils/deprecation.py:144: FutureWarning: The sklearn.neighbors.base module is  deprecated in version 0.22 and will be removed in version 0.24. The corresponding classes / functions should instead be imported from sklearn.neighbors. Anything that cannot be imported from sklearn.neighbors is now part of the private API.\n",
            "  warnings.warn(message, FutureWarning)\n",
            "/usr/local/lib/python3.7/dist-packages/sklearn/utils/deprecation.py:87: FutureWarning: Function safe_indexing is deprecated; safe_indexing is deprecated in version 0.22 and will be removed in version 0.24.\n",
            "  warnings.warn(msg, category=FutureWarning)\n"
          ],
          "name": "stderr"
        }
      ]
    },
    {
      "cell_type": "code",
      "metadata": {
        "colab": {
          "base_uri": "https://localhost:8080/"
        },
        "id": "hCtEGtgU1enc",
        "outputId": "1ac4bc11-04f6-431c-df5e-1312288b819f"
      },
      "source": [
        "# opätovné overenie pomocou logistickej regresie\n",
        "lr = LogisticRegression()\n",
        "lr.fit(x_train, y_train)\n",
        "y_pred = lr.predict(x_test)\n",
        "print(classification_report(y_test, y_pred))"
      ],
      "execution_count": null,
      "outputs": [
        {
          "output_type": "stream",
          "text": [
            "              precision    recall  f1-score   support\n",
            "\n",
            "           0       0.70      0.71      0.71      1593\n",
            "           1       0.71      0.70      0.70      1593\n",
            "\n",
            "    accuracy                           0.70      3186\n",
            "   macro avg       0.70      0.70      0.70      3186\n",
            "weighted avg       0.70      0.70      0.70      3186\n",
            "\n"
          ],
          "name": "stdout"
        }
      ]
    },
    {
      "cell_type": "code",
      "metadata": {
        "colab": {
          "base_uri": "https://localhost:8080/"
        },
        "id": "Liuu2bF01ruL",
        "outputId": "48ce6d53-fc1a-4195-ef7b-f37c6847eedb"
      },
      "source": [
        "# natrénovanie pomocou nových (vylepšených) dát\n",
        "trenovanie2 = classifier.fit(x_train, y_train, batch_size=32, epochs=100, validation_split=0.3, verbose=2)"
      ],
      "execution_count": null,
      "outputs": [
        {
          "output_type": "stream",
          "text": [
            "Epoch 1/100\n",
            "359/359 - 1s - loss: 0.4540 - accuracy: 0.7796 - val_loss: 0.4370 - val_accuracy: 0.7983\n",
            "Epoch 2/100\n",
            "359/359 - 1s - loss: 0.4424 - accuracy: 0.7879 - val_loss: 0.4362 - val_accuracy: 0.7983\n",
            "Epoch 3/100\n",
            "359/359 - 1s - loss: 0.4401 - accuracy: 0.7907 - val_loss: 0.4365 - val_accuracy: 0.7936\n",
            "Epoch 4/100\n",
            "359/359 - 1s - loss: 0.4389 - accuracy: 0.7913 - val_loss: 0.4364 - val_accuracy: 0.7920\n",
            "Epoch 5/100\n",
            "359/359 - 1s - loss: 0.4379 - accuracy: 0.7892 - val_loss: 0.4351 - val_accuracy: 0.7967\n",
            "Epoch 6/100\n",
            "359/359 - 1s - loss: 0.4370 - accuracy: 0.7924 - val_loss: 0.4347 - val_accuracy: 0.8006\n",
            "Epoch 7/100\n",
            "359/359 - 1s - loss: 0.4357 - accuracy: 0.7914 - val_loss: 0.4344 - val_accuracy: 0.8006\n",
            "Epoch 8/100\n",
            "359/359 - 1s - loss: 0.4351 - accuracy: 0.7899 - val_loss: 0.4346 - val_accuracy: 0.8006\n",
            "Epoch 9/100\n",
            "359/359 - 1s - loss: 0.4347 - accuracy: 0.7930 - val_loss: 0.4331 - val_accuracy: 0.7998\n",
            "Epoch 10/100\n",
            "359/359 - 1s - loss: 0.4337 - accuracy: 0.7936 - val_loss: 0.4330 - val_accuracy: 0.8038\n",
            "Epoch 11/100\n",
            "359/359 - 1s - loss: 0.4331 - accuracy: 0.7929 - val_loss: 0.4331 - val_accuracy: 0.7967\n",
            "Epoch 12/100\n",
            "359/359 - 1s - loss: 0.4327 - accuracy: 0.7928 - val_loss: 0.4322 - val_accuracy: 0.8022\n",
            "Epoch 13/100\n",
            "359/359 - 1s - loss: 0.4318 - accuracy: 0.7939 - val_loss: 0.4348 - val_accuracy: 0.7975\n",
            "Epoch 14/100\n",
            "359/359 - 1s - loss: 0.4316 - accuracy: 0.7943 - val_loss: 0.4312 - val_accuracy: 0.8014\n",
            "Epoch 15/100\n",
            "359/359 - 1s - loss: 0.4312 - accuracy: 0.7953 - val_loss: 0.4324 - val_accuracy: 0.8038\n",
            "Epoch 16/100\n",
            "359/359 - 1s - loss: 0.4308 - accuracy: 0.7931 - val_loss: 0.4333 - val_accuracy: 0.8046\n",
            "Epoch 17/100\n",
            "359/359 - 1s - loss: 0.4302 - accuracy: 0.7937 - val_loss: 0.4308 - val_accuracy: 0.8061\n",
            "Epoch 18/100\n",
            "359/359 - 1s - loss: 0.4301 - accuracy: 0.7943 - val_loss: 0.4303 - val_accuracy: 0.8053\n",
            "Epoch 19/100\n",
            "359/359 - 1s - loss: 0.4293 - accuracy: 0.7956 - val_loss: 0.4317 - val_accuracy: 0.7991\n",
            "Epoch 20/100\n",
            "359/359 - 1s - loss: 0.4293 - accuracy: 0.7954 - val_loss: 0.4288 - val_accuracy: 0.8100\n",
            "Epoch 21/100\n",
            "359/359 - 1s - loss: 0.4288 - accuracy: 0.7956 - val_loss: 0.4284 - val_accuracy: 0.8053\n",
            "Epoch 22/100\n",
            "359/359 - 1s - loss: 0.4284 - accuracy: 0.7960 - val_loss: 0.4282 - val_accuracy: 0.8022\n",
            "Epoch 23/100\n",
            "359/359 - 1s - loss: 0.4283 - accuracy: 0.7952 - val_loss: 0.4278 - val_accuracy: 0.8077\n",
            "Epoch 24/100\n",
            "359/359 - 1s - loss: 0.4278 - accuracy: 0.7965 - val_loss: 0.4285 - val_accuracy: 0.7998\n",
            "Epoch 25/100\n",
            "359/359 - 1s - loss: 0.4277 - accuracy: 0.7962 - val_loss: 0.4283 - val_accuracy: 0.8069\n",
            "Epoch 26/100\n",
            "359/359 - 1s - loss: 0.4274 - accuracy: 0.7949 - val_loss: 0.4270 - val_accuracy: 0.8038\n",
            "Epoch 27/100\n",
            "359/359 - 1s - loss: 0.4272 - accuracy: 0.7948 - val_loss: 0.4256 - val_accuracy: 0.8069\n",
            "Epoch 28/100\n",
            "359/359 - 1s - loss: 0.4273 - accuracy: 0.7949 - val_loss: 0.4266 - val_accuracy: 0.8030\n",
            "Epoch 29/100\n",
            "359/359 - 1s - loss: 0.4269 - accuracy: 0.7966 - val_loss: 0.4256 - val_accuracy: 0.8053\n",
            "Epoch 30/100\n",
            "359/359 - 1s - loss: 0.4270 - accuracy: 0.7964 - val_loss: 0.4264 - val_accuracy: 0.8069\n",
            "Epoch 31/100\n",
            "359/359 - 1s - loss: 0.4271 - accuracy: 0.7966 - val_loss: 0.4269 - val_accuracy: 0.8061\n",
            "Epoch 32/100\n",
            "359/359 - 1s - loss: 0.4262 - accuracy: 0.7950 - val_loss: 0.4263 - val_accuracy: 0.8030\n",
            "Epoch 33/100\n",
            "359/359 - 1s - loss: 0.4265 - accuracy: 0.7950 - val_loss: 0.4293 - val_accuracy: 0.8061\n",
            "Epoch 34/100\n",
            "359/359 - 1s - loss: 0.4263 - accuracy: 0.7957 - val_loss: 0.4268 - val_accuracy: 0.8069\n",
            "Epoch 35/100\n",
            "359/359 - 1s - loss: 0.4259 - accuracy: 0.7978 - val_loss: 0.4269 - val_accuracy: 0.7998\n",
            "Epoch 36/100\n",
            "359/359 - 1s - loss: 0.4260 - accuracy: 0.7954 - val_loss: 0.4256 - val_accuracy: 0.8061\n",
            "Epoch 37/100\n",
            "359/359 - 1s - loss: 0.4264 - accuracy: 0.7957 - val_loss: 0.4275 - val_accuracy: 0.8061\n",
            "Epoch 38/100\n",
            "359/359 - 1s - loss: 0.4259 - accuracy: 0.7954 - val_loss: 0.4265 - val_accuracy: 0.8053\n",
            "Epoch 39/100\n",
            "359/359 - 1s - loss: 0.4261 - accuracy: 0.7945 - val_loss: 0.4247 - val_accuracy: 0.8030\n",
            "Epoch 40/100\n",
            "359/359 - 1s - loss: 0.4253 - accuracy: 0.7961 - val_loss: 0.4256 - val_accuracy: 0.8030\n",
            "Epoch 41/100\n",
            "359/359 - 1s - loss: 0.4249 - accuracy: 0.7969 - val_loss: 0.4242 - val_accuracy: 0.8061\n",
            "Epoch 42/100\n",
            "359/359 - 1s - loss: 0.4249 - accuracy: 0.7955 - val_loss: 0.4281 - val_accuracy: 0.8069\n",
            "Epoch 43/100\n",
            "359/359 - 1s - loss: 0.4248 - accuracy: 0.7977 - val_loss: 0.4265 - val_accuracy: 0.8061\n",
            "Epoch 44/100\n",
            "359/359 - 1s - loss: 0.4244 - accuracy: 0.7969 - val_loss: 0.4254 - val_accuracy: 0.8030\n",
            "Epoch 45/100\n",
            "359/359 - 1s - loss: 0.4244 - accuracy: 0.7957 - val_loss: 0.4265 - val_accuracy: 0.8046\n",
            "Epoch 46/100\n",
            "359/359 - 1s - loss: 0.4242 - accuracy: 0.7948 - val_loss: 0.4268 - val_accuracy: 0.8006\n",
            "Epoch 47/100\n",
            "359/359 - 1s - loss: 0.4236 - accuracy: 0.7966 - val_loss: 0.4290 - val_accuracy: 0.8093\n",
            "Epoch 48/100\n",
            "359/359 - 1s - loss: 0.4234 - accuracy: 0.7963 - val_loss: 0.4288 - val_accuracy: 0.8077\n",
            "Epoch 49/100\n",
            "359/359 - 1s - loss: 0.4234 - accuracy: 0.7976 - val_loss: 0.4289 - val_accuracy: 0.8038\n",
            "Epoch 50/100\n",
            "359/359 - 1s - loss: 0.4238 - accuracy: 0.7975 - val_loss: 0.4274 - val_accuracy: 0.8038\n",
            "Epoch 51/100\n",
            "359/359 - 1s - loss: 0.4237 - accuracy: 0.7957 - val_loss: 0.4269 - val_accuracy: 0.8053\n",
            "Epoch 52/100\n",
            "359/359 - 1s - loss: 0.4231 - accuracy: 0.7970 - val_loss: 0.4278 - val_accuracy: 0.8038\n",
            "Epoch 53/100\n",
            "359/359 - 1s - loss: 0.4229 - accuracy: 0.7966 - val_loss: 0.4279 - val_accuracy: 0.8046\n",
            "Epoch 54/100\n",
            "359/359 - 1s - loss: 0.4235 - accuracy: 0.7958 - val_loss: 0.4270 - val_accuracy: 0.8061\n",
            "Epoch 55/100\n",
            "359/359 - 1s - loss: 0.4225 - accuracy: 0.7982 - val_loss: 0.4283 - val_accuracy: 0.8053\n",
            "Epoch 56/100\n",
            "359/359 - 1s - loss: 0.4228 - accuracy: 0.7976 - val_loss: 0.4271 - val_accuracy: 0.8046\n",
            "Epoch 57/100\n",
            "359/359 - 1s - loss: 0.4226 - accuracy: 0.7950 - val_loss: 0.4273 - val_accuracy: 0.8046\n",
            "Epoch 58/100\n",
            "359/359 - 1s - loss: 0.4224 - accuracy: 0.7972 - val_loss: 0.4281 - val_accuracy: 0.8022\n",
            "Epoch 59/100\n",
            "359/359 - 1s - loss: 0.4228 - accuracy: 0.7962 - val_loss: 0.4281 - val_accuracy: 0.8038\n",
            "Epoch 60/100\n",
            "359/359 - 1s - loss: 0.4222 - accuracy: 0.7980 - val_loss: 0.4289 - val_accuracy: 0.8046\n",
            "Epoch 61/100\n",
            "359/359 - 1s - loss: 0.4223 - accuracy: 0.7977 - val_loss: 0.4297 - val_accuracy: 0.8053\n",
            "Epoch 62/100\n",
            "359/359 - 1s - loss: 0.4222 - accuracy: 0.7977 - val_loss: 0.4293 - val_accuracy: 0.8093\n",
            "Epoch 63/100\n",
            "359/359 - 1s - loss: 0.4220 - accuracy: 0.7973 - val_loss: 0.4274 - val_accuracy: 0.8038\n",
            "Epoch 64/100\n",
            "359/359 - 1s - loss: 0.4216 - accuracy: 0.7980 - val_loss: 0.4258 - val_accuracy: 0.8085\n",
            "Epoch 65/100\n",
            "359/359 - 1s - loss: 0.4221 - accuracy: 0.7965 - val_loss: 0.4290 - val_accuracy: 0.8053\n",
            "Epoch 66/100\n",
            "359/359 - 1s - loss: 0.4217 - accuracy: 0.7977 - val_loss: 0.4257 - val_accuracy: 0.8053\n",
            "Epoch 67/100\n",
            "359/359 - 1s - loss: 0.4214 - accuracy: 0.7967 - val_loss: 0.4262 - val_accuracy: 0.8069\n",
            "Epoch 68/100\n",
            "359/359 - 1s - loss: 0.4213 - accuracy: 0.7973 - val_loss: 0.4265 - val_accuracy: 0.8061\n",
            "Epoch 69/100\n",
            "359/359 - 1s - loss: 0.4213 - accuracy: 0.7971 - val_loss: 0.4299 - val_accuracy: 0.8046\n",
            "Epoch 70/100\n",
            "359/359 - 1s - loss: 0.4214 - accuracy: 0.7985 - val_loss: 0.4287 - val_accuracy: 0.8093\n",
            "Epoch 71/100\n",
            "359/359 - 1s - loss: 0.4209 - accuracy: 0.7976 - val_loss: 0.4263 - val_accuracy: 0.8085\n",
            "Epoch 72/100\n",
            "359/359 - 1s - loss: 0.4207 - accuracy: 0.7977 - val_loss: 0.4289 - val_accuracy: 0.8108\n",
            "Epoch 73/100\n",
            "359/359 - 1s - loss: 0.4207 - accuracy: 0.7996 - val_loss: 0.4246 - val_accuracy: 0.8085\n",
            "Epoch 74/100\n",
            "359/359 - 1s - loss: 0.4208 - accuracy: 0.7981 - val_loss: 0.4260 - val_accuracy: 0.8085\n",
            "Epoch 75/100\n",
            "359/359 - 1s - loss: 0.4209 - accuracy: 0.7986 - val_loss: 0.4263 - val_accuracy: 0.8100\n",
            "Epoch 76/100\n",
            "359/359 - 1s - loss: 0.4205 - accuracy: 0.7979 - val_loss: 0.4271 - val_accuracy: 0.8038\n",
            "Epoch 77/100\n",
            "359/359 - 1s - loss: 0.4208 - accuracy: 0.8001 - val_loss: 0.4253 - val_accuracy: 0.8077\n",
            "Epoch 78/100\n",
            "359/359 - 1s - loss: 0.4204 - accuracy: 0.7977 - val_loss: 0.4275 - val_accuracy: 0.8077\n",
            "Epoch 79/100\n",
            "359/359 - 1s - loss: 0.4201 - accuracy: 0.7981 - val_loss: 0.4307 - val_accuracy: 0.8100\n",
            "Epoch 80/100\n",
            "359/359 - 1s - loss: 0.4200 - accuracy: 0.7979 - val_loss: 0.4316 - val_accuracy: 0.7998\n",
            "Epoch 81/100\n",
            "359/359 - 1s - loss: 0.4202 - accuracy: 0.7977 - val_loss: 0.4266 - val_accuracy: 0.8046\n",
            "Epoch 82/100\n",
            "359/359 - 1s - loss: 0.4205 - accuracy: 0.7979 - val_loss: 0.4280 - val_accuracy: 0.8046\n",
            "Epoch 83/100\n",
            "359/359 - 1s - loss: 0.4200 - accuracy: 0.7986 - val_loss: 0.4251 - val_accuracy: 0.8085\n",
            "Epoch 84/100\n",
            "359/359 - 1s - loss: 0.4200 - accuracy: 0.7982 - val_loss: 0.4300 - val_accuracy: 0.8053\n",
            "Epoch 85/100\n",
            "359/359 - 1s - loss: 0.4198 - accuracy: 0.7998 - val_loss: 0.4286 - val_accuracy: 0.8077\n",
            "Epoch 86/100\n",
            "359/359 - 1s - loss: 0.4202 - accuracy: 0.7977 - val_loss: 0.4253 - val_accuracy: 0.8077\n",
            "Epoch 87/100\n",
            "359/359 - 1s - loss: 0.4200 - accuracy: 0.8007 - val_loss: 0.4279 - val_accuracy: 0.8038\n",
            "Epoch 88/100\n",
            "359/359 - 1s - loss: 0.4198 - accuracy: 0.7984 - val_loss: 0.4271 - val_accuracy: 0.8093\n",
            "Epoch 89/100\n",
            "359/359 - 1s - loss: 0.4195 - accuracy: 0.7991 - val_loss: 0.4294 - val_accuracy: 0.8116\n",
            "Epoch 90/100\n",
            "359/359 - 1s - loss: 0.4198 - accuracy: 0.7990 - val_loss: 0.4279 - val_accuracy: 0.8053\n",
            "Epoch 91/100\n",
            "359/359 - 1s - loss: 0.4196 - accuracy: 0.7992 - val_loss: 0.4303 - val_accuracy: 0.8046\n",
            "Epoch 92/100\n",
            "359/359 - 1s - loss: 0.4196 - accuracy: 0.7991 - val_loss: 0.4250 - val_accuracy: 0.8132\n",
            "Epoch 93/100\n",
            "359/359 - 1s - loss: 0.4193 - accuracy: 0.7999 - val_loss: 0.4274 - val_accuracy: 0.8069\n",
            "Epoch 94/100\n",
            "359/359 - 1s - loss: 0.4201 - accuracy: 0.8001 - val_loss: 0.4281 - val_accuracy: 0.8022\n",
            "Epoch 95/100\n",
            "359/359 - 1s - loss: 0.4194 - accuracy: 0.7980 - val_loss: 0.4281 - val_accuracy: 0.8100\n",
            "Epoch 96/100\n",
            "359/359 - 1s - loss: 0.4193 - accuracy: 0.8005 - val_loss: 0.4276 - val_accuracy: 0.8085\n",
            "Epoch 97/100\n",
            "359/359 - 1s - loss: 0.4190 - accuracy: 0.7978 - val_loss: 0.4246 - val_accuracy: 0.8108\n",
            "Epoch 98/100\n",
            "359/359 - 1s - loss: 0.4191 - accuracy: 0.7994 - val_loss: 0.4266 - val_accuracy: 0.8069\n",
            "Epoch 99/100\n",
            "359/359 - 1s - loss: 0.4191 - accuracy: 0.7999 - val_loss: 0.4307 - val_accuracy: 0.8053\n",
            "Epoch 100/100\n",
            "359/359 - 1s - loss: 0.4189 - accuracy: 0.7987 - val_loss: 0.4261 - val_accuracy: 0.8053\n"
          ],
          "name": "stdout"
        }
      ]
    },
    {
      "cell_type": "code",
      "metadata": {
        "colab": {
          "base_uri": "https://localhost:8080/"
        },
        "id": "20dNmOgw1vG8",
        "outputId": "6a9a661b-93a4-4fd8-9648-d07b86553a1c"
      },
      "source": [
        "y_pred = classifier.predict(x_test)\n",
        "print(y_pred[:5])\n",
        "y_pred = (y_pred > 0.5).astype(int)\n",
        "print(y_pred[:5])\n",
        "cm = confusion_matrix(y_test, y_pred)\n",
        "print(cm)"
      ],
      "execution_count": null,
      "outputs": [
        {
          "output_type": "stream",
          "text": [
            "[[0.07161346]\n",
            " [0.99940217]\n",
            " [0.01828739]\n",
            " [0.6480891 ]\n",
            " [0.04457983]]\n",
            "[[0]\n",
            " [1]\n",
            " [0]\n",
            " [1]\n",
            " [0]]\n",
            "[[1276  317]\n",
            " [ 329 1264]]\n"
          ],
          "name": "stdout"
        }
      ]
    },
    {
      "cell_type": "code",
      "metadata": {
        "colab": {
          "base_uri": "https://localhost:8080/",
          "height": 282
        },
        "id": "2B2GuaaY2AbM",
        "outputId": "4fd33603-abbb-4f7e-f847-b7120e760cff"
      },
      "source": [
        "# Heatmapa teraz zobratuje nové dáta a je jasné, že odhad bude po zlepšení o niečo presnejší za cenu nižšej celkovej presnosťi\n",
        "# dáta su teraz viac vyrovnané, a tak aj pre zákazníkov, ktorí opustia banku máme väčšiu pravdepodobnosť úspechu.\n",
        "sns.heatmap(cm,annot=True,fmt='g')"
      ],
      "execution_count": null,
      "outputs": [
        {
          "output_type": "execute_result",
          "data": {
            "text/plain": [
              "<matplotlib.axes._subplots.AxesSubplot at 0x7fa04618fa50>"
            ]
          },
          "metadata": {
            "tags": []
          },
          "execution_count": 26
        },
        {
          "output_type": "display_data",
          "data": {
            "image/png": "[encoded data removed]",
            "text/plain": [
              "<Figure size 432x288 with 2 Axes>"
            ]
          },
          "metadata": {
            "tags": []
          }
        }
      ]
    },
    {
      "cell_type": "code",
      "metadata": {
        "colab": {
          "base_uri": "https://localhost:8080/"
        },
        "id": "Mzja3n3q2Cqz",
        "outputId": "af6b86c5-27bb-439e-e0e5-7a4150893666"
      },
      "source": [
        "# celková úspešnosť predikcie po vylepšení dát\n",
        "print (((cm[0][0]+cm[1][1])*100)/(len(y_test)), '% dát bolo klasifikovaných správne')"
      ],
      "execution_count": null,
      "outputs": [
        {
          "output_type": "stream",
          "text": [
            "79.72379158819837 % dát bolo klasifikovaných správne\n"
          ],
          "name": "stdout"
        }
      ]
    },
    {
      "cell_type": "code",
      "metadata": {
        "colab": {
          "base_uri": "https://localhost:8080/"
        },
        "id": "Hi2uiJQg2J40",
        "outputId": "34cf0f41-0ac1-4253-97ed-395072490d2a"
      },
      "source": [
        "# ako môžeme vidieť dosiahli sme vysoké F1 score pre obe možnosti a teda NS je natrénovaná správne.\n",
        "print(classification_report(y_test, y_pred))"
      ],
      "execution_count": null,
      "outputs": [
        {
          "output_type": "stream",
          "text": [
            "              precision    recall  f1-score   support\n",
            "\n",
            "           0       0.80      0.80      0.80      1593\n",
            "           1       0.80      0.79      0.80      1593\n",
            "\n",
            "    accuracy                           0.80      3186\n",
            "   macro avg       0.80      0.80      0.80      3186\n",
            "weighted avg       0.80      0.80      0.80      3186\n",
            "\n"
          ],
          "name": "stdout"
        }
      ]
    },
    {
      "cell_type": "code",
      "metadata": {
        "id": "_2uuf6v72q9M",
        "colab": {
          "base_uri": "https://localhost:8080/",
          "height": 422
        },
        "outputId": "a0e45776-4ec1-49c4-846c-d03f67b03e93"
      },
      "source": [
        "# vykreslenie modelu\n",
        "plot_model(classifier, to_file='model_plot.png', show_shapes=True, show_layer_names=True)"
      ],
      "execution_count": null,
      "outputs": [
        {
          "output_type": "execute_result",
          "data": {
            "image/png": "[encoded data removed]",
            "text/plain": [
              "<IPython.core.display.Image object>"
            ]
          },
          "metadata": {
            "tags": []
          },
          "execution_count": 30
        }
      ]
    },
    {
      "cell_type": "code",
      "metadata": {
        "id": "lhQe7grnwk_d"
      },
      "source": [
        ""
      ],
      "execution_count": null,
      "outputs": []
    }
  ]
}