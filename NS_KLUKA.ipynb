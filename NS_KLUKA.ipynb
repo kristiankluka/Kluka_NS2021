{
  "nbformat": 4,
  "nbformat_minor": 0,
  "metadata": {
    "colab": {
      "name": "NS_KLUKA.ipynb",
      "provenance": [],
      "toc_visible": true
    },
    "kernelspec": {
      "name": "python3",
      "display_name": "Python 3"
    },
    "language_info": {
      "name": "python"
    }
  },
  "cells": [
    {
      "cell_type": "markdown",
      "metadata": {
        "id": "SNqXz8-VBlpw"
      },
      "source": [
        "## O. Importy a načítanie datasetu\n"
      ]
    },
    {
      "cell_type": "code",
      "metadata": {
        "id": "okIJwhiJBQmu"
      },
      "source": [
        "import numpy as np\n",
        "import matplotlib.pyplot as plt\n",
        "import pandas as pd\n",
        "import seaborn as sns\n",
        "from sklearn.preprocessing import LabelEncoder\n",
        "from sklearn.preprocessing import StandardScaler, OneHotEncoder\n",
        "from sklearn.compose import ColumnTransformer\n",
        "from sklearn.pipeline import Pipeline\n",
        "from sklearn.model_selection import train_test_split\n",
        "from keras.models import Sequential\n",
        "from keras.layers import Dense"
      ],
      "execution_count": 1,
      "outputs": []
    },
    {
      "cell_type": "code",
      "metadata": {
        "id": "zoWZPM4_BdI_"
      },
      "source": [
        "#Import datasetu\n",
        "dataset = pd.read_csv('Churn_Modelling.csv', index_col='RowNumber')\n",
        "dataset.head()\n",
        "data_train2 = dataset.drop(['CustomerId','Surname'],axis=1)"
      ],
      "execution_count": 2,
      "outputs": []
    },
    {
      "cell_type": "markdown",
      "metadata": {
        "id": "aTMOp-L7EY7N"
      },
      "source": [
        "## 1. Príprava dát"
      ]
    },
    {
      "cell_type": "code",
      "metadata": {
        "colab": {
          "base_uri": "https://localhost:8080/"
        },
        "id": "8-VT16pqBj_1",
        "outputId": "1c8bf5c5-405a-49ff-ed21-fca471cfec07"
      },
      "source": [
        "# rozdelenie datasetu na dáta a hodnoty True/False (0,1), ktoré odkazujú na to \n",
        "# či zákazník opustil banku alebo nie.\n",
        "X_col = dataset.columns.tolist()[2:12]\n",
        "y_col = dataset.columns.tolist()[-1:]\n",
        "print('Dáta', X_col)\n",
        "print('True/False', y_col)"
      ],
      "execution_count": 3,
      "outputs": [
        {
          "output_type": "stream",
          "text": [
            "Dáta ['CreditScore', 'Geography', 'Gender', 'Age', 'Tenure', 'Balance', 'NumOfProducts', 'HasCrCard', 'IsActiveMember', 'EstimatedSalary']\n",
            "True/False ['Exited']\n"
          ],
          "name": "stdout"
        }
      ]
    },
    {
      "cell_type": "code",
      "metadata": {
        "colab": {
          "base_uri": "https://localhost:8080/"
        },
        "id": "gCtjQF2IEH6c",
        "outputId": "c8bbae14-e0db-4511-d968-21982f784b66"
      },
      "source": [
        "# vytvorenie nummpy array z týchto stĺpcov\n",
        "X = dataset[X_col].values \n",
        "y = dataset[y_col].values\n",
        "X"
      ],
      "execution_count": 4,
      "outputs": [
        {
          "output_type": "execute_result",
          "data": {
            "text/plain": [
              "array([[619, 'France', 'Female', ..., 1, 1, 101348.88],\n",
              "       [608, 'Spain', 'Female', ..., 0, 1, 112542.58],\n",
              "       [502, 'France', 'Female', ..., 1, 0, 113931.57],\n",
              "       ...,\n",
              "       [709, 'France', 'Female', ..., 0, 1, 42085.58],\n",
              "       [772, 'Germany', 'Male', ..., 1, 0, 92888.52],\n",
              "       [792, 'France', 'Female', ..., 1, 0, 38190.78]], dtype=object)"
            ]
          },
          "metadata": {
            "tags": []
          },
          "execution_count": 4
        }
      ]
    },
    {
      "cell_type": "markdown",
      "metadata": {
        "id": "xbJIXh0CFMbS"
      },
      "source": [
        "Ako môžeme vidieť tak dáta obsahujú aj kategorické premenné, ktoré treba nahradiť."
      ]
    },
    {
      "cell_type": "code",
      "metadata": {
        "colab": {
          "base_uri": "https://localhost:8080/"
        },
        "id": "KrcJ5Xl_Ep0k",
        "outputId": "24c543b8-9b51-4c1e-8cba-8dd55943a45b"
      },
      "source": [
        "encoder = LabelEncoder()\n",
        "X[:,1] = encoder.fit_transform(X[:,1]) # zmena krajiny na hodnoty vhodné pre analýzu (0-France,1-Germany,2-France)\n",
        "print('Krajina: ')\n",
        "print(X[:,1])\n",
        "X[:,2] = encoder.fit_transform(X[:,2]) # zmena pohlavia na hodnoty vhodné pre analýzu (0-Female, 1-Male)\n",
        "print('Pohlavie: ')\n",
        "print(X[:,2])"
      ],
      "execution_count": 5,
      "outputs": [
        {
          "output_type": "stream",
          "text": [
            "Krajina: \n",
            "[0 2 0 ... 0 1 0]\n",
            "Pohlavie: \n",
            "[0 0 0 ... 0 1 0]\n"
          ],
          "name": "stdout"
        }
      ]
    },
    {
      "cell_type": "code",
      "metadata": {
        "id": "B706wWbRFy89"
      },
      "source": [
        "pipeline = Pipeline(\n",
        "    [('Categorizer', ColumnTransformer(\n",
        "         [\n",
        "          (\"Gender\", OneHotEncoder(categories='auto', drop='first'), [2]),\n",
        "           \n",
        "          (\"Geography\", OneHotEncoder(categories='auto', drop='first'), [1])\n",
        "         ], remainder='passthrough', n_jobs=1)),\n",
        "     # Standard Scaler for the classifier\n",
        "    ('Normalizer', StandardScaler())\n",
        "    ])"
      ],
      "execution_count": 6,
      "outputs": []
    },
    {
      "cell_type": "code",
      "metadata": {
        "id": "JAIgJVIS-oEx"
      },
      "source": [
        ""
      ],
      "execution_count": 6,
      "outputs": []
    },
    {
      "cell_type": "code",
      "metadata": {
        "id": "5Q99ux-DJCMD"
      },
      "source": [
        "X = pipeline.fit_transform(X)"
      ],
      "execution_count": 7,
      "outputs": []
    },
    {
      "cell_type": "code",
      "metadata": {
        "id": "w3yED9QQJDlk"
      },
      "source": [
        "# Rozdelenie datasetu na testovacie a trénovacie dáta v pomere 30:70\n",
        "X_train, X_test, y_train, y_test = train_test_split(X,y, test_size = 0.3, random_state = 0) "
      ],
      "execution_count": 8,
      "outputs": []
    },
    {
      "cell_type": "code",
      "metadata": {
        "id": "8iYBgXdgJ56r",
        "colab": {
          "base_uri": "https://localhost:8080/",
          "height": 297
        },
        "outputId": "19debea6-8078-4ce1-93d0-903381190e4e"
      },
      "source": [
        "data2 = dataset.drop(['CustomerId','Surname'],axis=1)\n",
        "sns.set_style('whitegrid')\n",
        "sns.countplot(x='Exited',data=data2,palette='RdBu_r')\n",
        "# je vidieť, že dáta nie sú veľmi vyvážené."
      ],
      "execution_count": 9,
      "outputs": [
        {
          "output_type": "execute_result",
          "data": {
            "text/plain": [
              "<matplotlib.axes._subplots.AxesSubplot at 0x7f9332421bd0>"
            ]
          },
          "metadata": {
            "tags": []
          },
          "execution_count": 9
        },
        {
          "output_type": "display_data",
          "data": {
            "image/png": "[encoded data removed]",
            "text/plain": [
              "<Figure size 432x288 with 1 Axes>"
            ]
          },
          "metadata": {
            "tags": []
          }
        }
      ]
    },
    {
      "cell_type": "code",
      "metadata": {
        "colab": {
          "base_uri": "https://localhost:8080/",
          "height": 279
        },
        "id": "qDU78xyw-Ken",
        "outputId": "281406c8-3ea1-41d1-cd21-fe33b93916a5"
      },
      "source": [
        "plt.hist(data2.EstimatedSalary, bins=5\n",
        "         , rwidth=0.8)\n",
        "plt.xlabel('PLat')\n",
        "plt.ylabel('Počet')\n",
        "plt.show()"
      ],
      "execution_count": 10,
      "outputs": [
        {
          "output_type": "display_data",
          "data": {
            "image/png": "[encoded data removed]",
            "text/plain": [
              "<Figure size 432x288 with 1 Axes>"
            ]
          },
          "metadata": {
            "tags": []
          }
        }
      ]
    },
    {
      "cell_type": "markdown",
      "metadata": {
        "id": "J_vDH6oDByYC"
      },
      "source": [
        "##2. Vytvorenie NS"
      ]
    },
    {
      "cell_type": "code",
      "metadata": {
        "id": "WYNKc7u4_-Iq"
      },
      "source": [
        "classifier = Sequential()"
      ],
      "execution_count": 11,
      "outputs": []
    },
    {
      "cell_type": "code",
      "metadata": {
        "id": "ystzhUktAVe5",
        "colab": {
          "base_uri": "https://localhost:8080/"
        },
        "outputId": "c1f23f8f-398c-4da2-b181-703fa64586b0"
      },
      "source": [
        "# Vstupná vrstva a prvá skrytá vrstva\n",
        "classifier.add(Dense(6, activation = 'relu',input_shape = (X_train.shape[1], )))\n",
        "# pridanie nasledujúcej skrytej vrstvy\n",
        "classifier.add(Dense(6, activation = 'relu')) \n",
        "# pridatnie výstupnej vrstvy\n",
        "classifier.add(Dense(1, activation = 'sigmoid')) \n",
        "classifier.summary()"
      ],
      "execution_count": 12,
      "outputs": [
        {
          "output_type": "stream",
          "text": [
            "Model: \"sequential\"\n",
            "_________________________________________________________________\n",
            "Layer (type)                 Output Shape              Param #   \n",
            "=================================================================\n",
            "dense (Dense)                (None, 6)                 72        \n",
            "_________________________________________________________________\n",
            "dense_1 (Dense)              (None, 6)                 42        \n",
            "_________________________________________________________________\n",
            "dense_2 (Dense)              (None, 1)                 7         \n",
            "=================================================================\n",
            "Total params: 121\n",
            "Trainable params: 121\n",
            "Non-trainable params: 0\n",
            "_________________________________________________________________\n"
          ],
          "name": "stdout"
        }
      ]
    },
    {
      "cell_type": "code",
      "metadata": {
        "id": "ECvINFGWKmxo"
      },
      "source": [
        "classifier.compile(optimizer='adam', loss = 'binary_crossentropy', metrics=['accuracy'])"
      ],
      "execution_count": 13,
      "outputs": []
    },
    {
      "cell_type": "code",
      "metadata": {
        "colab": {
          "base_uri": "https://localhost:8080/"
        },
        "id": "YmIxOQcpL_CA",
        "outputId": "ada7e05e-a8ed-4f9e-fa0f-94cc25c80b5a"
      },
      "source": [
        "trenovanie = classifier.fit(X_train, y_train, batch_size=32, epochs=100, validation_split=0.1, verbose=2)"
      ],
      "execution_count": 14,
      "outputs": [
        {
          "output_type": "stream",
          "text": [
            "Epoch 1/100\n",
            "197/197 - 1s - loss: 0.6485 - accuracy: 0.6478 - val_loss: 0.5506 - val_accuracy: 0.7929\n",
            "Epoch 2/100\n",
            "197/197 - 0s - loss: 0.5166 - accuracy: 0.7946 - val_loss: 0.4787 - val_accuracy: 0.8014\n",
            "Epoch 3/100\n",
            "197/197 - 0s - loss: 0.4691 - accuracy: 0.7973 - val_loss: 0.4488 - val_accuracy: 0.8014\n",
            "Epoch 4/100\n",
            "197/197 - 0s - loss: 0.4475 - accuracy: 0.7973 - val_loss: 0.4364 - val_accuracy: 0.8014\n",
            "Epoch 5/100\n",
            "197/197 - 0s - loss: 0.4375 - accuracy: 0.7973 - val_loss: 0.4286 - val_accuracy: 0.8014\n",
            "Epoch 6/100\n",
            "197/197 - 0s - loss: 0.4322 - accuracy: 0.7981 - val_loss: 0.4238 - val_accuracy: 0.8014\n",
            "Epoch 7/100\n",
            "197/197 - 0s - loss: 0.4285 - accuracy: 0.7986 - val_loss: 0.4195 - val_accuracy: 0.8071\n",
            "Epoch 8/100\n",
            "197/197 - 0s - loss: 0.4250 - accuracy: 0.8013 - val_loss: 0.4159 - val_accuracy: 0.8086\n",
            "Epoch 9/100\n",
            "197/197 - 0s - loss: 0.4213 - accuracy: 0.8046 - val_loss: 0.4121 - val_accuracy: 0.8200\n",
            "Epoch 10/100\n",
            "197/197 - 0s - loss: 0.4166 - accuracy: 0.8135 - val_loss: 0.4064 - val_accuracy: 0.8314\n",
            "Epoch 11/100\n",
            "197/197 - 0s - loss: 0.4117 - accuracy: 0.8192 - val_loss: 0.4006 - val_accuracy: 0.8357\n",
            "Epoch 12/100\n",
            "197/197 - 0s - loss: 0.4072 - accuracy: 0.8206 - val_loss: 0.3961 - val_accuracy: 0.8386\n",
            "Epoch 13/100\n",
            "197/197 - 0s - loss: 0.4023 - accuracy: 0.8240 - val_loss: 0.3907 - val_accuracy: 0.8400\n",
            "Epoch 14/100\n",
            "197/197 - 0s - loss: 0.3971 - accuracy: 0.8267 - val_loss: 0.3838 - val_accuracy: 0.8471\n",
            "Epoch 15/100\n",
            "197/197 - 0s - loss: 0.3899 - accuracy: 0.8305 - val_loss: 0.3780 - val_accuracy: 0.8500\n",
            "Epoch 16/100\n",
            "197/197 - 0s - loss: 0.3810 - accuracy: 0.8395 - val_loss: 0.3694 - val_accuracy: 0.8514\n",
            "Epoch 17/100\n",
            "197/197 - 0s - loss: 0.3714 - accuracy: 0.8457 - val_loss: 0.3648 - val_accuracy: 0.8514\n",
            "Epoch 18/100\n",
            "197/197 - 0s - loss: 0.3636 - accuracy: 0.8492 - val_loss: 0.3588 - val_accuracy: 0.8514\n",
            "Epoch 19/100\n",
            "197/197 - 0s - loss: 0.3579 - accuracy: 0.8527 - val_loss: 0.3564 - val_accuracy: 0.8543\n",
            "Epoch 20/100\n",
            "197/197 - 0s - loss: 0.3541 - accuracy: 0.8544 - val_loss: 0.3532 - val_accuracy: 0.8614\n",
            "Epoch 21/100\n",
            "197/197 - 0s - loss: 0.3518 - accuracy: 0.8562 - val_loss: 0.3514 - val_accuracy: 0.8586\n",
            "Epoch 22/100\n",
            "197/197 - 0s - loss: 0.3499 - accuracy: 0.8583 - val_loss: 0.3493 - val_accuracy: 0.8557\n",
            "Epoch 23/100\n",
            "197/197 - 0s - loss: 0.3485 - accuracy: 0.8603 - val_loss: 0.3481 - val_accuracy: 0.8586\n",
            "Epoch 24/100\n",
            "197/197 - 0s - loss: 0.3477 - accuracy: 0.8608 - val_loss: 0.3469 - val_accuracy: 0.8571\n",
            "Epoch 25/100\n",
            "197/197 - 0s - loss: 0.3467 - accuracy: 0.8613 - val_loss: 0.3451 - val_accuracy: 0.8571\n",
            "Epoch 26/100\n",
            "197/197 - 0s - loss: 0.3460 - accuracy: 0.8598 - val_loss: 0.3439 - val_accuracy: 0.8586\n",
            "Epoch 27/100\n",
            "197/197 - 0s - loss: 0.3449 - accuracy: 0.8597 - val_loss: 0.3430 - val_accuracy: 0.8586\n",
            "Epoch 28/100\n",
            "197/197 - 0s - loss: 0.3442 - accuracy: 0.8616 - val_loss: 0.3414 - val_accuracy: 0.8657\n",
            "Epoch 29/100\n",
            "197/197 - 0s - loss: 0.3439 - accuracy: 0.8611 - val_loss: 0.3400 - val_accuracy: 0.8643\n",
            "Epoch 30/100\n",
            "197/197 - 0s - loss: 0.3431 - accuracy: 0.8627 - val_loss: 0.3392 - val_accuracy: 0.8614\n",
            "Epoch 31/100\n",
            "197/197 - 0s - loss: 0.3424 - accuracy: 0.8614 - val_loss: 0.3402 - val_accuracy: 0.8643\n",
            "Epoch 32/100\n",
            "197/197 - 0s - loss: 0.3420 - accuracy: 0.8621 - val_loss: 0.3396 - val_accuracy: 0.8629\n",
            "Epoch 33/100\n",
            "197/197 - 0s - loss: 0.3417 - accuracy: 0.8643 - val_loss: 0.3397 - val_accuracy: 0.8643\n",
            "Epoch 34/100\n",
            "197/197 - 0s - loss: 0.3410 - accuracy: 0.8635 - val_loss: 0.3390 - val_accuracy: 0.8629\n",
            "Epoch 35/100\n",
            "197/197 - 0s - loss: 0.3402 - accuracy: 0.8641 - val_loss: 0.3378 - val_accuracy: 0.8629\n",
            "Epoch 36/100\n",
            "197/197 - 0s - loss: 0.3399 - accuracy: 0.8633 - val_loss: 0.3388 - val_accuracy: 0.8643\n",
            "Epoch 37/100\n",
            "197/197 - 0s - loss: 0.3397 - accuracy: 0.8638 - val_loss: 0.3370 - val_accuracy: 0.8643\n",
            "Epoch 38/100\n",
            "197/197 - 0s - loss: 0.3393 - accuracy: 0.8638 - val_loss: 0.3351 - val_accuracy: 0.8629\n",
            "Epoch 39/100\n",
            "197/197 - 0s - loss: 0.3391 - accuracy: 0.8627 - val_loss: 0.3341 - val_accuracy: 0.8643\n",
            "Epoch 40/100\n",
            "197/197 - 0s - loss: 0.3389 - accuracy: 0.8651 - val_loss: 0.3342 - val_accuracy: 0.8657\n",
            "Epoch 41/100\n",
            "197/197 - 0s - loss: 0.3382 - accuracy: 0.8643 - val_loss: 0.3342 - val_accuracy: 0.8657\n",
            "Epoch 42/100\n",
            "197/197 - 0s - loss: 0.3380 - accuracy: 0.8649 - val_loss: 0.3341 - val_accuracy: 0.8657\n",
            "Epoch 43/100\n",
            "197/197 - 0s - loss: 0.3375 - accuracy: 0.8652 - val_loss: 0.3339 - val_accuracy: 0.8671\n",
            "Epoch 44/100\n",
            "197/197 - 0s - loss: 0.3377 - accuracy: 0.8649 - val_loss: 0.3339 - val_accuracy: 0.8657\n",
            "Epoch 45/100\n",
            "197/197 - 0s - loss: 0.3374 - accuracy: 0.8652 - val_loss: 0.3330 - val_accuracy: 0.8657\n",
            "Epoch 46/100\n",
            "197/197 - 0s - loss: 0.3368 - accuracy: 0.8648 - val_loss: 0.3324 - val_accuracy: 0.8643\n",
            "Epoch 47/100\n",
            "197/197 - 0s - loss: 0.3370 - accuracy: 0.8651 - val_loss: 0.3322 - val_accuracy: 0.8686\n",
            "Epoch 48/100\n",
            "197/197 - 0s - loss: 0.3368 - accuracy: 0.8659 - val_loss: 0.3322 - val_accuracy: 0.8686\n",
            "Epoch 49/100\n",
            "197/197 - 0s - loss: 0.3361 - accuracy: 0.8635 - val_loss: 0.3320 - val_accuracy: 0.8686\n",
            "Epoch 50/100\n",
            "197/197 - 0s - loss: 0.3361 - accuracy: 0.8659 - val_loss: 0.3318 - val_accuracy: 0.8671\n",
            "Epoch 51/100\n",
            "197/197 - 0s - loss: 0.3360 - accuracy: 0.8629 - val_loss: 0.3312 - val_accuracy: 0.8671\n",
            "Epoch 52/100\n",
            "197/197 - 0s - loss: 0.3357 - accuracy: 0.8656 - val_loss: 0.3305 - val_accuracy: 0.8686\n",
            "Epoch 53/100\n",
            "197/197 - 0s - loss: 0.3358 - accuracy: 0.8640 - val_loss: 0.3299 - val_accuracy: 0.8671\n",
            "Epoch 54/100\n",
            "197/197 - 0s - loss: 0.3356 - accuracy: 0.8644 - val_loss: 0.3298 - val_accuracy: 0.8686\n",
            "Epoch 55/100\n",
            "197/197 - 0s - loss: 0.3354 - accuracy: 0.8646 - val_loss: 0.3310 - val_accuracy: 0.8671\n",
            "Epoch 56/100\n",
            "197/197 - 0s - loss: 0.3349 - accuracy: 0.8644 - val_loss: 0.3294 - val_accuracy: 0.8686\n",
            "Epoch 57/100\n",
            "197/197 - 0s - loss: 0.3348 - accuracy: 0.8676 - val_loss: 0.3311 - val_accuracy: 0.8686\n",
            "Epoch 58/100\n",
            "197/197 - 0s - loss: 0.3344 - accuracy: 0.8659 - val_loss: 0.3316 - val_accuracy: 0.8671\n",
            "Epoch 59/100\n",
            "197/197 - 0s - loss: 0.3343 - accuracy: 0.8649 - val_loss: 0.3322 - val_accuracy: 0.8657\n",
            "Epoch 60/100\n",
            "197/197 - 0s - loss: 0.3342 - accuracy: 0.8638 - val_loss: 0.3308 - val_accuracy: 0.8657\n",
            "Epoch 61/100\n",
            "197/197 - 0s - loss: 0.3336 - accuracy: 0.8648 - val_loss: 0.3303 - val_accuracy: 0.8629\n",
            "Epoch 62/100\n",
            "197/197 - 0s - loss: 0.3335 - accuracy: 0.8635 - val_loss: 0.3318 - val_accuracy: 0.8671\n",
            "Epoch 63/100\n",
            "197/197 - 0s - loss: 0.3334 - accuracy: 0.8644 - val_loss: 0.3308 - val_accuracy: 0.8629\n",
            "Epoch 64/100\n",
            "197/197 - 0s - loss: 0.3335 - accuracy: 0.8648 - val_loss: 0.3304 - val_accuracy: 0.8629\n",
            "Epoch 65/100\n",
            "197/197 - 0s - loss: 0.3330 - accuracy: 0.8654 - val_loss: 0.3310 - val_accuracy: 0.8643\n",
            "Epoch 66/100\n",
            "197/197 - 0s - loss: 0.3328 - accuracy: 0.8652 - val_loss: 0.3321 - val_accuracy: 0.8643\n",
            "Epoch 67/100\n",
            "197/197 - 0s - loss: 0.3327 - accuracy: 0.8663 - val_loss: 0.3315 - val_accuracy: 0.8629\n",
            "Epoch 68/100\n",
            "197/197 - 0s - loss: 0.3327 - accuracy: 0.8656 - val_loss: 0.3311 - val_accuracy: 0.8629\n",
            "Epoch 69/100\n",
            "197/197 - 0s - loss: 0.3323 - accuracy: 0.8641 - val_loss: 0.3303 - val_accuracy: 0.8657\n",
            "Epoch 70/100\n",
            "197/197 - 0s - loss: 0.3325 - accuracy: 0.8644 - val_loss: 0.3308 - val_accuracy: 0.8643\n",
            "Epoch 71/100\n",
            "197/197 - 0s - loss: 0.3323 - accuracy: 0.8663 - val_loss: 0.3299 - val_accuracy: 0.8629\n",
            "Epoch 72/100\n",
            "197/197 - 0s - loss: 0.3319 - accuracy: 0.8673 - val_loss: 0.3322 - val_accuracy: 0.8629\n",
            "Epoch 73/100\n",
            "197/197 - 0s - loss: 0.3320 - accuracy: 0.8648 - val_loss: 0.3324 - val_accuracy: 0.8600\n",
            "Epoch 74/100\n",
            "197/197 - 0s - loss: 0.3317 - accuracy: 0.8657 - val_loss: 0.3305 - val_accuracy: 0.8614\n",
            "Epoch 75/100\n",
            "197/197 - 0s - loss: 0.3317 - accuracy: 0.8667 - val_loss: 0.3314 - val_accuracy: 0.8643\n",
            "Epoch 76/100\n",
            "197/197 - 0s - loss: 0.3318 - accuracy: 0.8660 - val_loss: 0.3296 - val_accuracy: 0.8614\n",
            "Epoch 77/100\n",
            "197/197 - 0s - loss: 0.3317 - accuracy: 0.8659 - val_loss: 0.3321 - val_accuracy: 0.8614\n",
            "Epoch 78/100\n",
            "197/197 - 0s - loss: 0.3317 - accuracy: 0.8656 - val_loss: 0.3306 - val_accuracy: 0.8629\n",
            "Epoch 79/100\n",
            "197/197 - 0s - loss: 0.3315 - accuracy: 0.8662 - val_loss: 0.3304 - val_accuracy: 0.8629\n",
            "Epoch 80/100\n",
            "197/197 - 0s - loss: 0.3314 - accuracy: 0.8667 - val_loss: 0.3308 - val_accuracy: 0.8614\n",
            "Epoch 81/100\n",
            "197/197 - 0s - loss: 0.3316 - accuracy: 0.8676 - val_loss: 0.3304 - val_accuracy: 0.8657\n",
            "Epoch 82/100\n",
            "197/197 - 0s - loss: 0.3312 - accuracy: 0.8649 - val_loss: 0.3317 - val_accuracy: 0.8643\n",
            "Epoch 83/100\n",
            "197/197 - 0s - loss: 0.3311 - accuracy: 0.8673 - val_loss: 0.3305 - val_accuracy: 0.8614\n",
            "Epoch 84/100\n",
            "197/197 - 0s - loss: 0.3309 - accuracy: 0.8660 - val_loss: 0.3334 - val_accuracy: 0.8629\n",
            "Epoch 85/100\n",
            "197/197 - 0s - loss: 0.3312 - accuracy: 0.8665 - val_loss: 0.3316 - val_accuracy: 0.8600\n",
            "Epoch 86/100\n",
            "197/197 - 0s - loss: 0.3308 - accuracy: 0.8681 - val_loss: 0.3309 - val_accuracy: 0.8571\n",
            "Epoch 87/100\n",
            "197/197 - 0s - loss: 0.3311 - accuracy: 0.8656 - val_loss: 0.3293 - val_accuracy: 0.8600\n",
            "Epoch 88/100\n",
            "197/197 - 0s - loss: 0.3308 - accuracy: 0.8668 - val_loss: 0.3309 - val_accuracy: 0.8614\n",
            "Epoch 89/100\n",
            "197/197 - 0s - loss: 0.3308 - accuracy: 0.8667 - val_loss: 0.3308 - val_accuracy: 0.8643\n",
            "Epoch 90/100\n",
            "197/197 - 0s - loss: 0.3308 - accuracy: 0.8649 - val_loss: 0.3305 - val_accuracy: 0.8586\n",
            "Epoch 91/100\n",
            "197/197 - 0s - loss: 0.3308 - accuracy: 0.8675 - val_loss: 0.3332 - val_accuracy: 0.8629\n",
            "Epoch 92/100\n",
            "197/197 - 0s - loss: 0.3313 - accuracy: 0.8656 - val_loss: 0.3321 - val_accuracy: 0.8614\n",
            "Epoch 93/100\n",
            "197/197 - 0s - loss: 0.3307 - accuracy: 0.8668 - val_loss: 0.3319 - val_accuracy: 0.8586\n",
            "Epoch 94/100\n",
            "197/197 - 0s - loss: 0.3307 - accuracy: 0.8668 - val_loss: 0.3313 - val_accuracy: 0.8629\n",
            "Epoch 95/100\n",
            "197/197 - 0s - loss: 0.3308 - accuracy: 0.8668 - val_loss: 0.3311 - val_accuracy: 0.8614\n",
            "Epoch 96/100\n",
            "197/197 - 0s - loss: 0.3306 - accuracy: 0.8656 - val_loss: 0.3303 - val_accuracy: 0.8643\n",
            "Epoch 97/100\n",
            "197/197 - 0s - loss: 0.3307 - accuracy: 0.8667 - val_loss: 0.3307 - val_accuracy: 0.8629\n",
            "Epoch 98/100\n",
            "197/197 - 0s - loss: 0.3307 - accuracy: 0.8654 - val_loss: 0.3316 - val_accuracy: 0.8629\n",
            "Epoch 99/100\n",
            "197/197 - 0s - loss: 0.3302 - accuracy: 0.8668 - val_loss: 0.3308 - val_accuracy: 0.8643\n",
            "Epoch 100/100\n",
            "197/197 - 0s - loss: 0.3311 - accuracy: 0.8659 - val_loss: 0.3308 - val_accuracy: 0.8629\n"
          ],
          "name": "stdout"
        }
      ]
    },
    {
      "cell_type": "code",
      "metadata": {
        "colab": {
          "base_uri": "https://localhost:8080/",
          "height": 295
        },
        "id": "Hz5_ZCCAVht4",
        "outputId": "3bdda7f3-7ea1-48ef-8133-d63302352ab4"
      },
      "source": [
        "plt.plot(trenovanie.history['accuracy'])\n",
        "plt.plot(trenovanie.history['val_accuracy'])\n",
        "plt.ylabel('Presnosť')\n",
        "plt.xlabel('Iterácia')\n",
        "plt.title('Presnost modelu')\n",
        "plt.legend(['Train', 'Test'], loc='lower right')\n",
        "plt.show()"
      ],
      "execution_count": 15,
      "outputs": [
        {
          "output_type": "display_data",
          "data": {
            "image/png": "[encoded data removed]",
            "text/plain": [
              "<Figure size 432x288 with 1 Axes>"
            ]
          },
          "metadata": {
            "tags": []
          }
        }
      ]
    },
    {
      "cell_type": "code",
      "metadata": {
        "colab": {
          "base_uri": "https://localhost:8080/",
          "height": 295
        },
        "id": "m8GUaLiVME84",
        "outputId": "392c14d2-e035-4c28-d7a1-74c0c7fab736"
      },
      "source": [
        "plt.plot(trenovanie.history['loss']) \n",
        "plt.plot(trenovanie.history['val_loss']) \n",
        "plt.ylabel('Chyba') \n",
        "plt.xlabel('Iterácia')\n",
        "plt.title('Chyba') \n",
        "plt.legend(['Train', 'Test'], loc='upper right') \n",
        "plt.show()"
      ],
      "execution_count": 16,
      "outputs": [
        {
          "output_type": "display_data",
          "data": {
            "image/png": "[encoded data removed]",
            "text/plain": [
              "<Figure size 432x288 with 1 Axes>"
            ]
          },
          "metadata": {
            "tags": []
          }
        }
      ]
    },
    {
      "cell_type": "code",
      "metadata": {
        "id": "ELD5Xb0NyxNy"
      },
      "source": [
        ""
      ],
      "execution_count": 16,
      "outputs": []
    }
  ]
}