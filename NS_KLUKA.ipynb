{
  "nbformat": 4,
  "nbformat_minor": 0,
  "metadata": {
    "colab": {
      "name": "NS_KLUKA.ipynb",
      "provenance": [],
      "toc_visible": true
    },
    "kernelspec": {
      "name": "python3",
      "display_name": "Python 3"
    },
    "language_info": {
      "name": "python"
    }
  },
  "cells": [
    {
      "cell_type": "markdown",
      "metadata": {
        "id": "SNqXz8-VBlpw"
      },
      "source": [
        "## O. Importy a načítanie datasetu\n"
      ]
    },
    {
      "cell_type": "code",
      "metadata": {
        "id": "okIJwhiJBQmu"
      },
      "source": [
        "import numpy as np\n",
        "import matplotlib.pyplot as plt\n",
        "import pandas as pd\n",
        "import seaborn as sns\n",
        "from sklearn.preprocessing import LabelEncoder\n",
        "from sklearn.preprocessing import StandardScaler, OneHotEncoder\n",
        "from sklearn.compose import ColumnTransformer\n",
        "from sklearn.pipeline import Pipeline\n",
        "from sklearn.model_selection import train_test_split\n",
        "from keras.models import Sequential\n",
        "from keras.layers import Dense\n",
        "from sklearn.metrics import confusion_matrix,  classification_report\n"
      ],
      "execution_count": null,
      "outputs": []
    },
    {
      "cell_type": "code",
      "metadata": {
        "id": "zoWZPM4_BdI_"
      },
      "source": [
        "#Import datasetu\n",
        "dataset = pd.read_csv('Churn_Modelling.csv', index_col='RowNumber')\n",
        "dataset.head()\n",
        "data_train2 = dataset.drop(['CustomerId','Surname'],axis=1)"
      ],
      "execution_count": null,
      "outputs": []
    },
    {
      "cell_type": "markdown",
      "metadata": {
        "id": "aTMOp-L7EY7N"
      },
      "source": [
        "## 1. Príprava dát"
      ]
    },
    {
      "cell_type": "code",
      "metadata": {
        "colab": {
          "base_uri": "https://localhost:8080/"
        },
        "id": "8-VT16pqBj_1",
        "outputId": "c593c863-1dac-4701-d64b-a4e7e7db43c1"
      },
      "source": [
        "# rozdelenie datasetu na dáta a hodnoty True/False (0,1), ktoré odkazujú na to \n",
        "# či zákazník opustil banku alebo nie.\n",
        "X_col = dataset.columns.tolist()[2:12]\n",
        "y_col = dataset.columns.tolist()[-1:]\n",
        "print('Dáta', X_col)\n",
        "print('True/False', y_col)"
      ],
      "execution_count": null,
      "outputs": [
        {
          "output_type": "stream",
          "text": [
            "Dáta ['CreditScore', 'Geography', 'Gender', 'Age', 'Tenure', 'Balance', 'NumOfProducts', 'HasCrCard', 'IsActiveMember', 'EstimatedSalary']\n",
            "True/False ['Exited']\n"
          ],
          "name": "stdout"
        }
      ]
    },
    {
      "cell_type": "code",
      "metadata": {
        "colab": {
          "base_uri": "https://localhost:8080/"
        },
        "id": "gCtjQF2IEH6c",
        "outputId": "e510fe66-ca72-4917-a56f-60c613335447"
      },
      "source": [
        "# vytvorenie nummpy array z týchto stĺpcov\n",
        "X = dataset[X_col].values \n",
        "y = dataset[y_col].values\n",
        "X"
      ],
      "execution_count": null,
      "outputs": [
        {
          "output_type": "execute_result",
          "data": {
            "text/plain": [
              "array([[619, 'France', 'Female', ..., 1, 1, 101348.88],\n",
              "       [608, 'Spain', 'Female', ..., 0, 1, 112542.58],\n",
              "       [502, 'France', 'Female', ..., 1, 0, 113931.57],\n",
              "       ...,\n",
              "       [709, 'France', 'Female', ..., 0, 1, 42085.58],\n",
              "       [772, 'Germany', 'Male', ..., 1, 0, 92888.52],\n",
              "       [792, 'France', 'Female', ..., 1, 0, 38190.78]], dtype=object)"
            ]
          },
          "metadata": {
            "tags": []
          },
          "execution_count": 4
        }
      ]
    },
    {
      "cell_type": "markdown",
      "metadata": {
        "id": "xbJIXh0CFMbS"
      },
      "source": [
        "Ako môžeme vidieť tak dáta obsahujú aj kategorické premenné, ktoré treba nahradiť."
      ]
    },
    {
      "cell_type": "code",
      "metadata": {
        "colab": {
          "base_uri": "https://localhost:8080/"
        },
        "id": "KrcJ5Xl_Ep0k",
        "outputId": "5ac9c858-9383-4813-91e7-aad1c298ca2f"
      },
      "source": [
        "encoder = LabelEncoder()\n",
        "X[:,1] = encoder.fit_transform(X[:,1]) # zmena krajiny na hodnoty vhodné pre analýzu (0-France,1-Germany,2-France)\n",
        "print('Krajina: ')\n",
        "print(X[:,1])\n",
        "X[:,2] = encoder.fit_transform(X[:,2]) # zmena pohlavia na hodnoty vhodné pre analýzu (0-Female, 1-Male)\n",
        "print('Pohlavie: ')\n",
        "print(X[:,2])"
      ],
      "execution_count": null,
      "outputs": [
        {
          "output_type": "stream",
          "text": [
            "Krajina: \n",
            "[0 2 0 ... 0 1 0]\n",
            "Pohlavie: \n",
            "[0 0 0 ... 0 1 0]\n"
          ],
          "name": "stdout"
        }
      ]
    },
    {
      "cell_type": "code",
      "metadata": {
        "id": "B706wWbRFy89"
      },
      "source": [
        "pipeline = Pipeline(\n",
        "    [('Categorizer', ColumnTransformer(\n",
        "         [\n",
        "          (\"Gender\", OneHotEncoder(categories='auto', drop='first'), [2]),\n",
        "           \n",
        "          (\"Geography\", OneHotEncoder(categories='auto', drop='first'), [1])\n",
        "         ], remainder='passthrough', n_jobs=1)),\n",
        "     # Standard Scaler for the classifier\n",
        "    ('Normalizer', StandardScaler())\n",
        "    ])"
      ],
      "execution_count": null,
      "outputs": []
    },
    {
      "cell_type": "code",
      "metadata": {
        "id": "JAIgJVIS-oEx"
      },
      "source": [
        ""
      ],
      "execution_count": null,
      "outputs": []
    },
    {
      "cell_type": "code",
      "metadata": {
        "id": "5Q99ux-DJCMD"
      },
      "source": [
        "X = pipeline.fit_transform(X)"
      ],
      "execution_count": null,
      "outputs": []
    },
    {
      "cell_type": "code",
      "metadata": {
        "id": "w3yED9QQJDlk"
      },
      "source": [
        "# Rozdelenie datasetu na testovacie a trénovacie dáta v pomere 30:70\n",
        "X_train, X_test, y_train, y_test = train_test_split(X,y, test_size = 0.3, random_state = 0) "
      ],
      "execution_count": null,
      "outputs": []
    },
    {
      "cell_type": "code",
      "metadata": {
        "id": "8iYBgXdgJ56r",
        "colab": {
          "base_uri": "https://localhost:8080/",
          "height": 296
        },
        "outputId": "9f55d2cc-fd00-471d-f3a1-38631590aa94"
      },
      "source": [
        "data2 = dataset.drop(['CustomerId','Surname'],axis=1)\n",
        "sns.set_style('whitegrid')\n",
        "sns.countplot(x='Exited',data=data2,palette='RdBu_r')\n",
        "# je vidieť, že dáta nie sú veľmi vyvážené."
      ],
      "execution_count": null,
      "outputs": [
        {
          "output_type": "execute_result",
          "data": {
            "text/plain": [
              "<matplotlib.axes._subplots.AxesSubplot at 0x7f8af2849cd0>"
            ]
          },
          "metadata": {
            "tags": []
          },
          "execution_count": 9
        },
        {
          "output_type": "display_data",
          "data": {
            "image/png": "[encoded data removed]",
            "text/plain": [
              "<Figure size 432x288 with 1 Axes>"
            ]
          },
          "metadata": {
            "tags": []
          }
        }
      ]
    },
    {
      "cell_type": "code",
      "metadata": {
        "colab": {
          "base_uri": "https://localhost:8080/",
          "height": 279
        },
        "id": "qDU78xyw-Ken",
        "outputId": "59281100-b5dd-433a-c175-0782d6601117"
      },
      "source": [
        "plt.hist(data2.EstimatedSalary, bins=5\n",
        "         , rwidth=0.8)\n",
        "plt.xlabel('PLat')\n",
        "plt.ylabel('Počet')\n",
        "plt.show()"
      ],
      "execution_count": null,
      "outputs": [
        {
          "output_type": "display_data",
          "data": {
            "image/png": "[encoded data removed]",
            "text/plain": [
              "<Figure size 432x288 with 1 Axes>"
            ]
          },
          "metadata": {
            "tags": []
          }
        }
      ]
    },
    {
      "cell_type": "markdown",
      "metadata": {
        "id": "J_vDH6oDByYC"
      },
      "source": [
        "##2. Vytvorenie NS"
      ]
    },
    {
      "cell_type": "code",
      "metadata": {
        "id": "WYNKc7u4_-Iq"
      },
      "source": [
        "classifier = Sequential()"
      ],
      "execution_count": null,
      "outputs": []
    },
    {
      "cell_type": "code",
      "metadata": {
        "id": "ystzhUktAVe5",
        "colab": {
          "base_uri": "https://localhost:8080/"
        },
        "outputId": "c28a1680-a4f2-4b9a-c58a-4400de1d92f8"
      },
      "source": [
        "# Vstupná vrstva a prvá skrytá vrstva\n",
        "classifier.add(Dense(6, activation = 'relu',input_shape = (X_train.shape[1], )))\n",
        "# pridanie nasledujúcej skrytej vrstvy\n",
        "classifier.add(Dense(6, activation = 'relu')) \n",
        "# pridatnie výstupnej vrstvy\n",
        "classifier.add(Dense(1, activation = 'sigmoid')) \n",
        "classifier.summary()"
      ],
      "execution_count": null,
      "outputs": [
        {
          "output_type": "stream",
          "text": [
            "Model: \"sequential\"\n",
            "_________________________________________________________________\n",
            "Layer (type)                 Output Shape              Param #   \n",
            "=================================================================\n",
            "dense (Dense)                (None, 6)                 72        \n",
            "_________________________________________________________________\n",
            "dense_1 (Dense)              (None, 6)                 42        \n",
            "_________________________________________________________________\n",
            "dense_2 (Dense)              (None, 1)                 7         \n",
            "=================================================================\n",
            "Total params: 121\n",
            "Trainable params: 121\n",
            "Non-trainable params: 0\n",
            "_________________________________________________________________\n"
          ],
          "name": "stdout"
        }
      ]
    },
    {
      "cell_type": "code",
      "metadata": {
        "id": "ECvINFGWKmxo"
      },
      "source": [
        "classifier.compile(optimizer='adam', loss = 'binary_crossentropy', metrics=['accuracy'])"
      ],
      "execution_count": null,
      "outputs": []
    },
    {
      "cell_type": "code",
      "metadata": {
        "colab": {
          "base_uri": "https://localhost:8080/"
        },
        "id": "YmIxOQcpL_CA",
        "outputId": "6650013c-f09d-459e-c950-5c82a70af840"
      },
      "source": [
        "trenovanie = classifier.fit(X_train, y_train, batch_size=32, epochs=100, validation_split=0.1, verbose=2)"
      ],
      "execution_count": null,
      "outputs": [
        {
          "output_type": "stream",
          "text": [
            "Epoch 1/100\n",
            "197/197 - 1s - loss: 0.5403 - accuracy: 0.7957 - val_loss: 0.4939 - val_accuracy: 0.8014\n",
            "Epoch 2/100\n",
            "197/197 - 0s - loss: 0.4775 - accuracy: 0.7973 - val_loss: 0.4623 - val_accuracy: 0.8014\n",
            "Epoch 3/100\n",
            "197/197 - 0s - loss: 0.4548 - accuracy: 0.7970 - val_loss: 0.4515 - val_accuracy: 0.7986\n",
            "Epoch 4/100\n",
            "197/197 - 0s - loss: 0.4439 - accuracy: 0.7987 - val_loss: 0.4444 - val_accuracy: 0.7943\n",
            "Epoch 5/100\n",
            "197/197 - 0s - loss: 0.4370 - accuracy: 0.8017 - val_loss: 0.4379 - val_accuracy: 0.8043\n",
            "Epoch 6/100\n",
            "197/197 - 0s - loss: 0.4317 - accuracy: 0.8086 - val_loss: 0.4335 - val_accuracy: 0.8071\n",
            "Epoch 7/100\n",
            "197/197 - 0s - loss: 0.4274 - accuracy: 0.8124 - val_loss: 0.4290 - val_accuracy: 0.8086\n",
            "Epoch 8/100\n",
            "197/197 - 0s - loss: 0.4233 - accuracy: 0.8167 - val_loss: 0.4246 - val_accuracy: 0.8129\n",
            "Epoch 9/100\n",
            "197/197 - 0s - loss: 0.4203 - accuracy: 0.8213 - val_loss: 0.4205 - val_accuracy: 0.8200\n",
            "Epoch 10/100\n",
            "197/197 - 0s - loss: 0.4171 - accuracy: 0.8243 - val_loss: 0.4160 - val_accuracy: 0.8271\n",
            "Epoch 11/100\n",
            "197/197 - 0s - loss: 0.4143 - accuracy: 0.8251 - val_loss: 0.4120 - val_accuracy: 0.8371\n",
            "Epoch 12/100\n",
            "197/197 - 0s - loss: 0.4120 - accuracy: 0.8278 - val_loss: 0.4086 - val_accuracy: 0.8343\n",
            "Epoch 13/100\n",
            "197/197 - 0s - loss: 0.4092 - accuracy: 0.8281 - val_loss: 0.4047 - val_accuracy: 0.8343\n",
            "Epoch 14/100\n",
            "197/197 - 0s - loss: 0.4060 - accuracy: 0.8298 - val_loss: 0.4005 - val_accuracy: 0.8357\n",
            "Epoch 15/100\n",
            "197/197 - 0s - loss: 0.4028 - accuracy: 0.8292 - val_loss: 0.3962 - val_accuracy: 0.8371\n",
            "Epoch 16/100\n",
            "197/197 - 0s - loss: 0.3997 - accuracy: 0.8297 - val_loss: 0.3919 - val_accuracy: 0.8357\n",
            "Epoch 17/100\n",
            "197/197 - 0s - loss: 0.3972 - accuracy: 0.8292 - val_loss: 0.3897 - val_accuracy: 0.8414\n",
            "Epoch 18/100\n",
            "197/197 - 0s - loss: 0.3943 - accuracy: 0.8302 - val_loss: 0.3852 - val_accuracy: 0.8443\n",
            "Epoch 19/100\n",
            "197/197 - 0s - loss: 0.3922 - accuracy: 0.8321 - val_loss: 0.3834 - val_accuracy: 0.8400\n",
            "Epoch 20/100\n",
            "197/197 - 0s - loss: 0.3898 - accuracy: 0.8306 - val_loss: 0.3798 - val_accuracy: 0.8429\n",
            "Epoch 21/100\n",
            "197/197 - 0s - loss: 0.3877 - accuracy: 0.8313 - val_loss: 0.3777 - val_accuracy: 0.8371\n",
            "Epoch 22/100\n",
            "197/197 - 0s - loss: 0.3855 - accuracy: 0.8330 - val_loss: 0.3754 - val_accuracy: 0.8343\n",
            "Epoch 23/100\n",
            "197/197 - 0s - loss: 0.3833 - accuracy: 0.8324 - val_loss: 0.3730 - val_accuracy: 0.8386\n",
            "Epoch 24/100\n",
            "197/197 - 0s - loss: 0.3809 - accuracy: 0.8335 - val_loss: 0.3697 - val_accuracy: 0.8429\n",
            "Epoch 25/100\n",
            "197/197 - 0s - loss: 0.3788 - accuracy: 0.8343 - val_loss: 0.3686 - val_accuracy: 0.8357\n",
            "Epoch 26/100\n",
            "197/197 - 0s - loss: 0.3762 - accuracy: 0.8348 - val_loss: 0.3658 - val_accuracy: 0.8429\n",
            "Epoch 27/100\n",
            "197/197 - 0s - loss: 0.3746 - accuracy: 0.8344 - val_loss: 0.3638 - val_accuracy: 0.8443\n",
            "Epoch 28/100\n",
            "197/197 - 0s - loss: 0.3726 - accuracy: 0.8405 - val_loss: 0.3620 - val_accuracy: 0.8529\n",
            "Epoch 29/100\n",
            "197/197 - 0s - loss: 0.3709 - accuracy: 0.8413 - val_loss: 0.3598 - val_accuracy: 0.8529\n",
            "Epoch 30/100\n",
            "197/197 - 0s - loss: 0.3690 - accuracy: 0.8449 - val_loss: 0.3571 - val_accuracy: 0.8629\n",
            "Epoch 31/100\n",
            "197/197 - 0s - loss: 0.3668 - accuracy: 0.8449 - val_loss: 0.3564 - val_accuracy: 0.8586\n",
            "Epoch 32/100\n",
            "197/197 - 0s - loss: 0.3648 - accuracy: 0.8492 - val_loss: 0.3558 - val_accuracy: 0.8571\n",
            "Epoch 33/100\n",
            "197/197 - 0s - loss: 0.3633 - accuracy: 0.8484 - val_loss: 0.3550 - val_accuracy: 0.8514\n",
            "Epoch 34/100\n",
            "197/197 - 0s - loss: 0.3619 - accuracy: 0.8475 - val_loss: 0.3529 - val_accuracy: 0.8614\n",
            "Epoch 35/100\n",
            "197/197 - 0s - loss: 0.3602 - accuracy: 0.8494 - val_loss: 0.3511 - val_accuracy: 0.8614\n",
            "Epoch 36/100\n",
            "197/197 - 0s - loss: 0.3581 - accuracy: 0.8510 - val_loss: 0.3511 - val_accuracy: 0.8586\n",
            "Epoch 37/100\n",
            "197/197 - 0s - loss: 0.3571 - accuracy: 0.8510 - val_loss: 0.3499 - val_accuracy: 0.8643\n",
            "Epoch 38/100\n",
            "197/197 - 0s - loss: 0.3562 - accuracy: 0.8516 - val_loss: 0.3495 - val_accuracy: 0.8629\n",
            "Epoch 39/100\n",
            "197/197 - 0s - loss: 0.3543 - accuracy: 0.8521 - val_loss: 0.3484 - val_accuracy: 0.8614\n",
            "Epoch 40/100\n",
            "197/197 - 0s - loss: 0.3532 - accuracy: 0.8532 - val_loss: 0.3482 - val_accuracy: 0.8643\n",
            "Epoch 41/100\n",
            "197/197 - 0s - loss: 0.3524 - accuracy: 0.8552 - val_loss: 0.3468 - val_accuracy: 0.8571\n",
            "Epoch 42/100\n",
            "197/197 - 0s - loss: 0.3521 - accuracy: 0.8576 - val_loss: 0.3463 - val_accuracy: 0.8586\n",
            "Epoch 43/100\n",
            "197/197 - 0s - loss: 0.3508 - accuracy: 0.8563 - val_loss: 0.3485 - val_accuracy: 0.8586\n",
            "Epoch 44/100\n",
            "197/197 - 0s - loss: 0.3502 - accuracy: 0.8567 - val_loss: 0.3447 - val_accuracy: 0.8586\n",
            "Epoch 45/100\n",
            "197/197 - 0s - loss: 0.3491 - accuracy: 0.8567 - val_loss: 0.3453 - val_accuracy: 0.8586\n",
            "Epoch 46/100\n",
            "197/197 - 0s - loss: 0.3488 - accuracy: 0.8576 - val_loss: 0.3446 - val_accuracy: 0.8600\n",
            "Epoch 47/100\n",
            "197/197 - 0s - loss: 0.3478 - accuracy: 0.8598 - val_loss: 0.3470 - val_accuracy: 0.8614\n",
            "Epoch 48/100\n",
            "197/197 - 0s - loss: 0.3473 - accuracy: 0.8600 - val_loss: 0.3442 - val_accuracy: 0.8586\n",
            "Epoch 49/100\n",
            "197/197 - 0s - loss: 0.3468 - accuracy: 0.8595 - val_loss: 0.3433 - val_accuracy: 0.8614\n",
            "Epoch 50/100\n",
            "197/197 - 0s - loss: 0.3464 - accuracy: 0.8603 - val_loss: 0.3433 - val_accuracy: 0.8614\n",
            "Epoch 51/100\n",
            "197/197 - 0s - loss: 0.3460 - accuracy: 0.8600 - val_loss: 0.3444 - val_accuracy: 0.8600\n",
            "Epoch 52/100\n",
            "197/197 - 0s - loss: 0.3460 - accuracy: 0.8573 - val_loss: 0.3447 - val_accuracy: 0.8657\n",
            "Epoch 53/100\n",
            "197/197 - 0s - loss: 0.3448 - accuracy: 0.8597 - val_loss: 0.3435 - val_accuracy: 0.8657\n",
            "Epoch 54/100\n",
            "197/197 - 0s - loss: 0.3447 - accuracy: 0.8605 - val_loss: 0.3440 - val_accuracy: 0.8629\n",
            "Epoch 55/100\n",
            "197/197 - 0s - loss: 0.3439 - accuracy: 0.8619 - val_loss: 0.3418 - val_accuracy: 0.8657\n",
            "Epoch 56/100\n",
            "197/197 - 0s - loss: 0.3439 - accuracy: 0.8622 - val_loss: 0.3427 - val_accuracy: 0.8671\n",
            "Epoch 57/100\n",
            "197/197 - 0s - loss: 0.3438 - accuracy: 0.8611 - val_loss: 0.3420 - val_accuracy: 0.8629\n",
            "Epoch 58/100\n",
            "197/197 - 0s - loss: 0.3437 - accuracy: 0.8603 - val_loss: 0.3411 - val_accuracy: 0.8657\n",
            "Epoch 59/100\n",
            "197/197 - 0s - loss: 0.3431 - accuracy: 0.8595 - val_loss: 0.3424 - val_accuracy: 0.8643\n",
            "Epoch 60/100\n",
            "197/197 - 0s - loss: 0.3427 - accuracy: 0.8622 - val_loss: 0.3407 - val_accuracy: 0.8643\n",
            "Epoch 61/100\n",
            "197/197 - 0s - loss: 0.3421 - accuracy: 0.8617 - val_loss: 0.3413 - val_accuracy: 0.8629\n",
            "Epoch 62/100\n",
            "197/197 - 0s - loss: 0.3417 - accuracy: 0.8605 - val_loss: 0.3423 - val_accuracy: 0.8629\n",
            "Epoch 63/100\n",
            "197/197 - 0s - loss: 0.3423 - accuracy: 0.8616 - val_loss: 0.3410 - val_accuracy: 0.8671\n",
            "Epoch 64/100\n",
            "197/197 - 0s - loss: 0.3418 - accuracy: 0.8608 - val_loss: 0.3408 - val_accuracy: 0.8629\n",
            "Epoch 65/100\n",
            "197/197 - 0s - loss: 0.3413 - accuracy: 0.8608 - val_loss: 0.3421 - val_accuracy: 0.8643\n",
            "Epoch 66/100\n",
            "197/197 - 0s - loss: 0.3409 - accuracy: 0.8594 - val_loss: 0.3427 - val_accuracy: 0.8629\n",
            "Epoch 67/100\n",
            "197/197 - 0s - loss: 0.3408 - accuracy: 0.8630 - val_loss: 0.3420 - val_accuracy: 0.8671\n",
            "Epoch 68/100\n",
            "197/197 - 0s - loss: 0.3409 - accuracy: 0.8614 - val_loss: 0.3399 - val_accuracy: 0.8600\n",
            "Epoch 69/100\n",
            "197/197 - 0s - loss: 0.3402 - accuracy: 0.8594 - val_loss: 0.3440 - val_accuracy: 0.8586\n",
            "Epoch 70/100\n",
            "197/197 - 0s - loss: 0.3401 - accuracy: 0.8632 - val_loss: 0.3412 - val_accuracy: 0.8600\n",
            "Epoch 71/100\n",
            "197/197 - 0s - loss: 0.3396 - accuracy: 0.8622 - val_loss: 0.3398 - val_accuracy: 0.8643\n",
            "Epoch 72/100\n",
            "197/197 - 0s - loss: 0.3403 - accuracy: 0.8608 - val_loss: 0.3410 - val_accuracy: 0.8643\n",
            "Epoch 73/100\n",
            "197/197 - 0s - loss: 0.3398 - accuracy: 0.8598 - val_loss: 0.3400 - val_accuracy: 0.8600\n",
            "Epoch 74/100\n",
            "197/197 - 0s - loss: 0.3395 - accuracy: 0.8616 - val_loss: 0.3407 - val_accuracy: 0.8614\n",
            "Epoch 75/100\n",
            "197/197 - 0s - loss: 0.3396 - accuracy: 0.8611 - val_loss: 0.3409 - val_accuracy: 0.8571\n",
            "Epoch 76/100\n",
            "197/197 - 0s - loss: 0.3394 - accuracy: 0.8621 - val_loss: 0.3412 - val_accuracy: 0.8657\n",
            "Epoch 77/100\n",
            "197/197 - 0s - loss: 0.3386 - accuracy: 0.8624 - val_loss: 0.3407 - val_accuracy: 0.8643\n",
            "Epoch 78/100\n",
            "197/197 - 0s - loss: 0.3388 - accuracy: 0.8617 - val_loss: 0.3413 - val_accuracy: 0.8600\n",
            "Epoch 79/100\n",
            "197/197 - 0s - loss: 0.3386 - accuracy: 0.8635 - val_loss: 0.3391 - val_accuracy: 0.8600\n",
            "Epoch 80/100\n",
            "197/197 - 0s - loss: 0.3391 - accuracy: 0.8616 - val_loss: 0.3378 - val_accuracy: 0.8643\n",
            "Epoch 81/100\n",
            "197/197 - 0s - loss: 0.3385 - accuracy: 0.8633 - val_loss: 0.3382 - val_accuracy: 0.8671\n",
            "Epoch 82/100\n",
            "197/197 - 0s - loss: 0.3387 - accuracy: 0.8619 - val_loss: 0.3371 - val_accuracy: 0.8643\n",
            "Epoch 83/100\n",
            "197/197 - 0s - loss: 0.3383 - accuracy: 0.8614 - val_loss: 0.3379 - val_accuracy: 0.8657\n",
            "Epoch 84/100\n",
            "197/197 - 0s - loss: 0.3380 - accuracy: 0.8595 - val_loss: 0.3383 - val_accuracy: 0.8586\n",
            "Epoch 85/100\n",
            "197/197 - 0s - loss: 0.3381 - accuracy: 0.8625 - val_loss: 0.3385 - val_accuracy: 0.8614\n",
            "Epoch 86/100\n",
            "197/197 - 0s - loss: 0.3379 - accuracy: 0.8608 - val_loss: 0.3378 - val_accuracy: 0.8614\n",
            "Epoch 87/100\n",
            "197/197 - 0s - loss: 0.3375 - accuracy: 0.8625 - val_loss: 0.3416 - val_accuracy: 0.8600\n",
            "Epoch 88/100\n",
            "197/197 - 0s - loss: 0.3383 - accuracy: 0.8606 - val_loss: 0.3364 - val_accuracy: 0.8657\n",
            "Epoch 89/100\n",
            "197/197 - 0s - loss: 0.3381 - accuracy: 0.8594 - val_loss: 0.3378 - val_accuracy: 0.8657\n",
            "Epoch 90/100\n",
            "197/197 - 0s - loss: 0.3376 - accuracy: 0.8637 - val_loss: 0.3376 - val_accuracy: 0.8657\n",
            "Epoch 91/100\n",
            "197/197 - 0s - loss: 0.3375 - accuracy: 0.8621 - val_loss: 0.3381 - val_accuracy: 0.8614\n",
            "Epoch 92/100\n",
            "197/197 - 0s - loss: 0.3376 - accuracy: 0.8594 - val_loss: 0.3368 - val_accuracy: 0.8686\n",
            "Epoch 93/100\n",
            "197/197 - 0s - loss: 0.3371 - accuracy: 0.8603 - val_loss: 0.3384 - val_accuracy: 0.8586\n",
            "Epoch 94/100\n",
            "197/197 - 0s - loss: 0.3376 - accuracy: 0.8619 - val_loss: 0.3357 - val_accuracy: 0.8686\n",
            "Epoch 95/100\n",
            "197/197 - 0s - loss: 0.3366 - accuracy: 0.8625 - val_loss: 0.3361 - val_accuracy: 0.8629\n",
            "Epoch 96/100\n",
            "197/197 - 0s - loss: 0.3372 - accuracy: 0.8619 - val_loss: 0.3362 - val_accuracy: 0.8700\n",
            "Epoch 97/100\n",
            "197/197 - 0s - loss: 0.3370 - accuracy: 0.8616 - val_loss: 0.3355 - val_accuracy: 0.8700\n",
            "Epoch 98/100\n",
            "197/197 - 0s - loss: 0.3373 - accuracy: 0.8629 - val_loss: 0.3373 - val_accuracy: 0.8671\n",
            "Epoch 99/100\n",
            "197/197 - 0s - loss: 0.3366 - accuracy: 0.8603 - val_loss: 0.3372 - val_accuracy: 0.8671\n",
            "Epoch 100/100\n",
            "197/197 - 0s - loss: 0.3356 - accuracy: 0.8630 - val_loss: 0.3367 - val_accuracy: 0.8671\n"
          ],
          "name": "stdout"
        }
      ]
    },
    {
      "cell_type": "markdown",
      "metadata": {
        "id": "XPe55MIbya8E"
      },
      "source": [
        "##3. Vizualizácia"
      ]
    },
    {
      "cell_type": "code",
      "metadata": {
        "colab": {
          "base_uri": "https://localhost:8080/",
          "height": 295
        },
        "id": "Hz5_ZCCAVht4",
        "outputId": "b229a061-cf0c-414d-854b-38578d710dfb"
      },
      "source": [
        "plt.plot(trenovanie.history['accuracy'])\n",
        "plt.plot(trenovanie.history['val_accuracy'])\n",
        "plt.ylabel('Presnosť')\n",
        "plt.xlabel('Iterácia')\n",
        "plt.title('Presnost modelu')\n",
        "plt.legend(['Train', 'Test'], loc='lower right')\n",
        "plt.show()"
      ],
      "execution_count": null,
      "outputs": [
        {
          "output_type": "display_data",
          "data": {
            "image/png": "[encoded data removed]",
            "text/plain": [
              "<Figure size 432x288 with 1 Axes>"
            ]
          },
          "metadata": {
            "tags": []
          }
        }
      ]
    },
    {
      "cell_type": "code",
      "metadata": {
        "colab": {
          "base_uri": "https://localhost:8080/",
          "height": 295
        },
        "id": "m8GUaLiVME84",
        "outputId": "62cf7cdb-f418-46fa-9c3a-3dea0a9a500e"
      },
      "source": [
        "plt.plot(trenovanie.history['loss']) \n",
        "plt.plot(trenovanie.history['val_loss']) \n",
        "plt.ylabel('Chyba') \n",
        "plt.xlabel('Iterácia')\n",
        "plt.title('Chyba') \n",
        "plt.legend(['Train', 'Test'], loc='upper right') \n",
        "plt.show()"
      ],
      "execution_count": null,
      "outputs": [
        {
          "output_type": "display_data",
          "data": {
            "image/png": "[encoded data removed]",
            "text/plain": [
              "<Figure size 432x288 with 1 Axes>"
            ]
          },
          "metadata": {
            "tags": []
          }
        }
      ]
    },
    {
      "cell_type": "code",
      "metadata": {
        "id": "ELD5Xb0NyxNy",
        "colab": {
          "base_uri": "https://localhost:8080/"
        },
        "outputId": "a1e5ff12-f82b-42c3-a149-b8353f032003"
      },
      "source": [
        "y_pred = classifier.predict(X_test)\n",
        "print(y_pred[:5])\n",
        "y_pred = (y_pred > 0.5).astype(int)\n",
        "print(y_pred[:5])"
      ],
      "execution_count": null,
      "outputs": [
        {
          "output_type": "stream",
          "text": [
            "[[0.20034844]\n",
            " [0.31392953]\n",
            " [0.17002425]\n",
            " [0.03406203]\n",
            " [0.0362978 ]]\n",
            "[[0]\n",
            " [0]\n",
            " [0]\n",
            " [0]\n",
            " [0]]\n"
          ],
          "name": "stdout"
        }
      ]
    },
    {
      "cell_type": "code",
      "metadata": {
        "id": "1DRWnN1Mx35u"
      },
      "source": [
        "cm = confusion_matrix(y_test, y_pred)"
      ],
      "execution_count": null,
      "outputs": []
    },
    {
      "cell_type": "code",
      "metadata": {
        "colab": {
          "base_uri": "https://localhost:8080/",
          "height": 286
        },
        "id": "iOZSituzx9L1",
        "outputId": "011856d0-e288-4b7a-9fc2-07035ee2fef8"
      },
      "source": [
        "sns.heatmap(cm,annot=True,fmt='g')"
      ],
      "execution_count": null,
      "outputs": [
        {
          "output_type": "execute_result",
          "data": {
            "text/plain": [
              "<matplotlib.axes._subplots.AxesSubplot at 0x7f8aee154b10>"
            ]
          },
          "metadata": {
            "tags": []
          },
          "execution_count": 19
        },
        {
          "output_type": "display_data",
          "data": {
            "image/png": "[encoded data removed]",
            "text/plain": [
              "<Figure size 432x288 with 2 Axes>"
            ]
          },
          "metadata": {
            "tags": []
          }
        }
      ]
    },
    {
      "cell_type": "code",
      "metadata": {
        "colab": {
          "base_uri": "https://localhost:8080/"
        },
        "id": "Ra6HNW2cyQ2N",
        "outputId": "e94ae069-b25d-446c-ec09-6131a78e6c71"
      },
      "source": [
        "print(classification_report(y_test, y_pred))"
      ],
      "execution_count": null,
      "outputs": [
        {
          "output_type": "stream",
          "text": [
            "              precision    recall  f1-score   support\n",
            "\n",
            "           0       0.88      0.95      0.91      2379\n",
            "           1       0.72      0.51      0.60       621\n",
            "\n",
            "    accuracy                           0.86      3000\n",
            "   macro avg       0.80      0.73      0.76      3000\n",
            "weighted avg       0.85      0.86      0.85      3000\n",
            "\n"
          ],
          "name": "stdout"
        }
      ]
    },
    {
      "cell_type": "markdown",
      "metadata": {
        "id": "aozOfPovQHFH"
      },
      "source": [
        "## 4. Zlepšenie výsledkov\n"
      ]
    },
    {
      "cell_type": "code",
      "metadata": {
        "colab": {
          "base_uri": "https://localhost:8080/"
        },
        "id": "lh57g-Uny5BN",
        "outputId": "36b0c774-b677-4805-8670-85d596cb31f2"
      },
      "source": [
        "from sklearn.linear_model import LogisticRegression\n",
        "lr = LogisticRegression()\n",
        "lr.fit(X_train, y_train)\n",
        "y_pred = lr.predict(X_test)\n",
        "print(classification_report(y_test, y_pred))"
      ],
      "execution_count": null,
      "outputs": [
        {
          "output_type": "stream",
          "text": [
            "              precision    recall  f1-score   support\n",
            "\n",
            "           0       0.83      0.96      0.89      2379\n",
            "           1       0.58      0.23      0.33       621\n",
            "\n",
            "    accuracy                           0.81      3000\n",
            "   macro avg       0.71      0.59      0.61      3000\n",
            "weighted avg       0.78      0.81      0.77      3000\n",
            "\n"
          ],
          "name": "stdout"
        },
        {
          "output_type": "stream",
          "text": [
            "/usr/local/lib/python3.7/dist-packages/sklearn/utils/validation.py:760: DataConversionWarning: A column-vector y was passed when a 1d array was expected. Please change the shape of y to (n_samples, ), for example using ravel().\n",
            "  y = column_or_1d(y, warn=True)\n"
          ],
          "name": "stderr"
        }
      ]
    },
    {
      "cell_type": "code",
      "metadata": {
        "colab": {
          "base_uri": "https://localhost:8080/"
        },
        "id": "e_P-x4Vn1LXG",
        "outputId": "b22d8c69-46fa-4c4b-921f-05f3386d97ae"
      },
      "source": [
        "from imblearn.over_sampling import SMOTE\n",
        "smote = SMOTE(sampling_strategy='minority')\n",
        "x_new, y_new = smote.fit_resample(X, np.ravel(y))\n",
        "x_train, x_test, y_train, y_test = train_test_split(x_new, y_new, test_size=0.2, stratify=y_new)"
      ],
      "execution_count": null,
      "outputs": [
        {
          "output_type": "stream",
          "text": [
            "/usr/local/lib/python3.7/dist-packages/sklearn/externals/six.py:31: FutureWarning: The module is deprecated in version 0.21 and will be removed in version 0.23 since we've dropped support for Python 2.7. Please rely on the official version of six (https://pypi.org/project/six/).\n",
            "  \"(https://pypi.org/project/six/).\", FutureWarning)\n",
            "/usr/local/lib/python3.7/dist-packages/sklearn/utils/deprecation.py:144: FutureWarning: The sklearn.neighbors.base module is  deprecated in version 0.22 and will be removed in version 0.24. The corresponding classes / functions should instead be imported from sklearn.neighbors. Anything that cannot be imported from sklearn.neighbors is now part of the private API.\n",
            "  warnings.warn(message, FutureWarning)\n",
            "/usr/local/lib/python3.7/dist-packages/sklearn/utils/deprecation.py:87: FutureWarning: Function safe_indexing is deprecated; safe_indexing is deprecated in version 0.22 and will be removed in version 0.24.\n",
            "  warnings.warn(msg, category=FutureWarning)\n"
          ],
          "name": "stderr"
        }
      ]
    },
    {
      "cell_type": "code",
      "metadata": {
        "colab": {
          "base_uri": "https://localhost:8080/"
        },
        "id": "hCtEGtgU1enc",
        "outputId": "0867b5c5-03e5-4994-a4e0-c4fa2838bec8"
      },
      "source": [
        "lr = LogisticRegression()\n",
        "lr.fit(x_train, y_train)\n",
        "y_pred = lr.predict(x_test)\n",
        "print(classification_report(y_test, y_pred))"
      ],
      "execution_count": null,
      "outputs": [
        {
          "output_type": "stream",
          "text": [
            "              precision    recall  f1-score   support\n",
            "\n",
            "           0       0.71      0.73      0.72      1593\n",
            "           1       0.72      0.70      0.71      1593\n",
            "\n",
            "    accuracy                           0.72      3186\n",
            "   macro avg       0.72      0.72      0.72      3186\n",
            "weighted avg       0.72      0.72      0.72      3186\n",
            "\n"
          ],
          "name": "stdout"
        }
      ]
    },
    {
      "cell_type": "code",
      "metadata": {
        "colab": {
          "base_uri": "https://localhost:8080/"
        },
        "id": "Liuu2bF01ruL",
        "outputId": "3a685f0f-375b-45e0-de43-45c13255a729"
      },
      "source": [
        "trenovanie = classifier.fit(x_train, y_train, batch_size=32, epochs=100, validation_split=0.1, verbose=2)"
      ],
      "execution_count": null,
      "outputs": [
        {
          "output_type": "stream",
          "text": [
            "Epoch 1/100\n",
            "359/359 - 1s - loss: 0.4608 - accuracy: 0.7792 - val_loss: 0.4342 - val_accuracy: 0.8006\n",
            "Epoch 2/100\n",
            "359/359 - 0s - loss: 0.4511 - accuracy: 0.7841 - val_loss: 0.4296 - val_accuracy: 0.8046\n",
            "Epoch 3/100\n",
            "359/359 - 1s - loss: 0.4485 - accuracy: 0.7861 - val_loss: 0.4327 - val_accuracy: 0.8022\n",
            "Epoch 4/100\n",
            "359/359 - 0s - loss: 0.4478 - accuracy: 0.7876 - val_loss: 0.4302 - val_accuracy: 0.8077\n",
            "Epoch 5/100\n",
            "359/359 - 1s - loss: 0.4467 - accuracy: 0.7886 - val_loss: 0.4264 - val_accuracy: 0.8085\n",
            "Epoch 6/100\n",
            "359/359 - 0s - loss: 0.4453 - accuracy: 0.7884 - val_loss: 0.4287 - val_accuracy: 0.8093\n",
            "Epoch 7/100\n",
            "359/359 - 0s - loss: 0.4446 - accuracy: 0.7879 - val_loss: 0.4303 - val_accuracy: 0.8014\n",
            "Epoch 8/100\n",
            "359/359 - 1s - loss: 0.4439 - accuracy: 0.7872 - val_loss: 0.4288 - val_accuracy: 0.8006\n",
            "Epoch 9/100\n",
            "359/359 - 1s - loss: 0.4434 - accuracy: 0.7914 - val_loss: 0.4277 - val_accuracy: 0.8100\n",
            "Epoch 10/100\n",
            "359/359 - 1s - loss: 0.4429 - accuracy: 0.7899 - val_loss: 0.4261 - val_accuracy: 0.8046\n",
            "Epoch 11/100\n",
            "359/359 - 1s - loss: 0.4425 - accuracy: 0.7894 - val_loss: 0.4256 - val_accuracy: 0.8093\n",
            "Epoch 12/100\n",
            "359/359 - 1s - loss: 0.4417 - accuracy: 0.7906 - val_loss: 0.4245 - val_accuracy: 0.8108\n",
            "Epoch 13/100\n",
            "359/359 - 0s - loss: 0.4422 - accuracy: 0.7893 - val_loss: 0.4263 - val_accuracy: 0.8116\n",
            "Epoch 14/100\n",
            "359/359 - 0s - loss: 0.4411 - accuracy: 0.7896 - val_loss: 0.4245 - val_accuracy: 0.8061\n",
            "Epoch 15/100\n",
            "359/359 - 1s - loss: 0.4412 - accuracy: 0.7904 - val_loss: 0.4264 - val_accuracy: 0.8093\n",
            "Epoch 16/100\n",
            "359/359 - 0s - loss: 0.4407 - accuracy: 0.7905 - val_loss: 0.4267 - val_accuracy: 0.7998\n",
            "Epoch 17/100\n",
            "359/359 - 1s - loss: 0.4402 - accuracy: 0.7913 - val_loss: 0.4245 - val_accuracy: 0.8116\n",
            "Epoch 18/100\n",
            "359/359 - 0s - loss: 0.4390 - accuracy: 0.7913 - val_loss: 0.4263 - val_accuracy: 0.8069\n",
            "Epoch 19/100\n",
            "359/359 - 1s - loss: 0.4402 - accuracy: 0.7923 - val_loss: 0.4211 - val_accuracy: 0.8053\n",
            "Epoch 20/100\n",
            "359/359 - 0s - loss: 0.4393 - accuracy: 0.7903 - val_loss: 0.4292 - val_accuracy: 0.8022\n",
            "Epoch 21/100\n",
            "359/359 - 0s - loss: 0.4390 - accuracy: 0.7922 - val_loss: 0.4227 - val_accuracy: 0.8163\n",
            "Epoch 22/100\n",
            "359/359 - 1s - loss: 0.4394 - accuracy: 0.7923 - val_loss: 0.4231 - val_accuracy: 0.8116\n",
            "Epoch 23/100\n",
            "359/359 - 0s - loss: 0.4392 - accuracy: 0.7922 - val_loss: 0.4239 - val_accuracy: 0.8053\n",
            "Epoch 24/100\n",
            "359/359 - 0s - loss: 0.4387 - accuracy: 0.7926 - val_loss: 0.4239 - val_accuracy: 0.8006\n",
            "Epoch 25/100\n",
            "359/359 - 1s - loss: 0.4386 - accuracy: 0.7931 - val_loss: 0.4244 - val_accuracy: 0.8030\n",
            "Epoch 26/100\n",
            "359/359 - 1s - loss: 0.4380 - accuracy: 0.7916 - val_loss: 0.4183 - val_accuracy: 0.8124\n",
            "Epoch 27/100\n",
            "359/359 - 1s - loss: 0.4377 - accuracy: 0.7910 - val_loss: 0.4217 - val_accuracy: 0.8053\n",
            "Epoch 28/100\n",
            "359/359 - 1s - loss: 0.4372 - accuracy: 0.7943 - val_loss: 0.4226 - val_accuracy: 0.8046\n",
            "Epoch 29/100\n",
            "359/359 - 1s - loss: 0.4370 - accuracy: 0.7925 - val_loss: 0.4232 - val_accuracy: 0.8053\n",
            "Epoch 30/100\n",
            "359/359 - 1s - loss: 0.4379 - accuracy: 0.7910 - val_loss: 0.4234 - val_accuracy: 0.8022\n",
            "Epoch 31/100\n",
            "359/359 - 0s - loss: 0.4370 - accuracy: 0.7930 - val_loss: 0.4221 - val_accuracy: 0.8061\n",
            "Epoch 32/100\n",
            "359/359 - 1s - loss: 0.4365 - accuracy: 0.7938 - val_loss: 0.4262 - val_accuracy: 0.8085\n",
            "Epoch 33/100\n",
            "359/359 - 0s - loss: 0.4364 - accuracy: 0.7945 - val_loss: 0.4182 - val_accuracy: 0.8116\n",
            "Epoch 34/100\n",
            "359/359 - 1s - loss: 0.4360 - accuracy: 0.7969 - val_loss: 0.4262 - val_accuracy: 0.8124\n",
            "Epoch 35/100\n",
            "359/359 - 1s - loss: 0.4356 - accuracy: 0.7939 - val_loss: 0.4184 - val_accuracy: 0.8100\n",
            "Epoch 36/100\n",
            "359/359 - 1s - loss: 0.4355 - accuracy: 0.7940 - val_loss: 0.4158 - val_accuracy: 0.8108\n",
            "Epoch 37/100\n",
            "359/359 - 0s - loss: 0.4356 - accuracy: 0.7917 - val_loss: 0.4213 - val_accuracy: 0.8132\n",
            "Epoch 38/100\n",
            "359/359 - 1s - loss: 0.4345 - accuracy: 0.7936 - val_loss: 0.4163 - val_accuracy: 0.8140\n",
            "Epoch 39/100\n",
            "359/359 - 1s - loss: 0.4340 - accuracy: 0.7948 - val_loss: 0.4194 - val_accuracy: 0.8100\n",
            "Epoch 40/100\n",
            "359/359 - 1s - loss: 0.4338 - accuracy: 0.7956 - val_loss: 0.4135 - val_accuracy: 0.8148\n",
            "Epoch 41/100\n",
            "359/359 - 1s - loss: 0.4340 - accuracy: 0.7943 - val_loss: 0.4156 - val_accuracy: 0.8163\n",
            "Epoch 42/100\n",
            "359/359 - 1s - loss: 0.4334 - accuracy: 0.7941 - val_loss: 0.4165 - val_accuracy: 0.8116\n",
            "Epoch 43/100\n",
            "359/359 - 0s - loss: 0.4326 - accuracy: 0.7955 - val_loss: 0.4177 - val_accuracy: 0.8171\n",
            "Epoch 44/100\n",
            "359/359 - 1s - loss: 0.4323 - accuracy: 0.7952 - val_loss: 0.4186 - val_accuracy: 0.8061\n",
            "Epoch 45/100\n",
            "359/359 - 1s - loss: 0.4322 - accuracy: 0.7941 - val_loss: 0.4202 - val_accuracy: 0.8077\n",
            "Epoch 46/100\n",
            "359/359 - 1s - loss: 0.4316 - accuracy: 0.7978 - val_loss: 0.4214 - val_accuracy: 0.8069\n",
            "Epoch 47/100\n",
            "359/359 - 0s - loss: 0.4319 - accuracy: 0.7972 - val_loss: 0.4208 - val_accuracy: 0.8038\n",
            "Epoch 48/100\n",
            "359/359 - 1s - loss: 0.4322 - accuracy: 0.7978 - val_loss: 0.4155 - val_accuracy: 0.8100\n",
            "Epoch 49/100\n",
            "359/359 - 1s - loss: 0.4316 - accuracy: 0.7959 - val_loss: 0.4154 - val_accuracy: 0.8069\n",
            "Epoch 50/100\n",
            "359/359 - 1s - loss: 0.4308 - accuracy: 0.7973 - val_loss: 0.4205 - val_accuracy: 0.8163\n",
            "Epoch 51/100\n",
            "359/359 - 1s - loss: 0.4310 - accuracy: 0.7953 - val_loss: 0.4188 - val_accuracy: 0.8132\n",
            "Epoch 52/100\n",
            "359/359 - 0s - loss: 0.4310 - accuracy: 0.7976 - val_loss: 0.4179 - val_accuracy: 0.8140\n",
            "Epoch 53/100\n",
            "359/359 - 0s - loss: 0.4309 - accuracy: 0.7980 - val_loss: 0.4165 - val_accuracy: 0.8187\n",
            "Epoch 54/100\n",
            "359/359 - 0s - loss: 0.4298 - accuracy: 0.7983 - val_loss: 0.4217 - val_accuracy: 0.8140\n",
            "Epoch 55/100\n",
            "359/359 - 1s - loss: 0.4309 - accuracy: 0.7973 - val_loss: 0.4147 - val_accuracy: 0.8124\n",
            "Epoch 56/100\n",
            "359/359 - 1s - loss: 0.4301 - accuracy: 0.7976 - val_loss: 0.4161 - val_accuracy: 0.8140\n",
            "Epoch 57/100\n",
            "359/359 - 0s - loss: 0.4291 - accuracy: 0.7977 - val_loss: 0.4197 - val_accuracy: 0.8116\n",
            "Epoch 58/100\n",
            "359/359 - 1s - loss: 0.4299 - accuracy: 0.7971 - val_loss: 0.4199 - val_accuracy: 0.8100\n",
            "Epoch 59/100\n",
            "359/359 - 1s - loss: 0.4290 - accuracy: 0.7989 - val_loss: 0.4184 - val_accuracy: 0.8093\n",
            "Epoch 60/100\n",
            "359/359 - 1s - loss: 0.4293 - accuracy: 0.7988 - val_loss: 0.4172 - val_accuracy: 0.8132\n",
            "Epoch 61/100\n",
            "359/359 - 1s - loss: 0.4288 - accuracy: 0.7997 - val_loss: 0.4139 - val_accuracy: 0.8085\n",
            "Epoch 62/100\n",
            "359/359 - 0s - loss: 0.4286 - accuracy: 0.7984 - val_loss: 0.4140 - val_accuracy: 0.8093\n",
            "Epoch 63/100\n",
            "359/359 - 1s - loss: 0.4288 - accuracy: 0.8013 - val_loss: 0.4190 - val_accuracy: 0.8100\n",
            "Epoch 64/100\n",
            "359/359 - 1s - loss: 0.4289 - accuracy: 0.7980 - val_loss: 0.4210 - val_accuracy: 0.8116\n",
            "Epoch 65/100\n",
            "359/359 - 1s - loss: 0.4290 - accuracy: 0.7975 - val_loss: 0.4155 - val_accuracy: 0.8116\n",
            "Epoch 66/100\n",
            "359/359 - 1s - loss: 0.4281 - accuracy: 0.7987 - val_loss: 0.4163 - val_accuracy: 0.8093\n",
            "Epoch 67/100\n",
            "359/359 - 1s - loss: 0.4286 - accuracy: 0.7977 - val_loss: 0.4132 - val_accuracy: 0.8132\n",
            "Epoch 68/100\n",
            "359/359 - 0s - loss: 0.4286 - accuracy: 0.7980 - val_loss: 0.4134 - val_accuracy: 0.8093\n",
            "Epoch 69/100\n",
            "359/359 - 0s - loss: 0.4283 - accuracy: 0.7964 - val_loss: 0.4187 - val_accuracy: 0.8108\n",
            "Epoch 70/100\n",
            "359/359 - 0s - loss: 0.4281 - accuracy: 0.8011 - val_loss: 0.4172 - val_accuracy: 0.8116\n",
            "Epoch 71/100\n",
            "359/359 - 1s - loss: 0.4272 - accuracy: 0.7995 - val_loss: 0.4137 - val_accuracy: 0.8053\n",
            "Epoch 72/100\n",
            "359/359 - 0s - loss: 0.4275 - accuracy: 0.7994 - val_loss: 0.4160 - val_accuracy: 0.8124\n",
            "Epoch 73/100\n",
            "359/359 - 1s - loss: 0.4276 - accuracy: 0.7996 - val_loss: 0.4202 - val_accuracy: 0.8116\n",
            "Epoch 74/100\n",
            "359/359 - 1s - loss: 0.4278 - accuracy: 0.7981 - val_loss: 0.4153 - val_accuracy: 0.8093\n",
            "Epoch 75/100\n",
            "359/359 - 1s - loss: 0.4273 - accuracy: 0.7985 - val_loss: 0.4210 - val_accuracy: 0.8085\n",
            "Epoch 76/100\n",
            "359/359 - 1s - loss: 0.4270 - accuracy: 0.7980 - val_loss: 0.4156 - val_accuracy: 0.8100\n",
            "Epoch 77/100\n",
            "359/359 - 0s - loss: 0.4262 - accuracy: 0.7991 - val_loss: 0.4223 - val_accuracy: 0.8053\n",
            "Epoch 78/100\n",
            "359/359 - 1s - loss: 0.4268 - accuracy: 0.7989 - val_loss: 0.4199 - val_accuracy: 0.8030\n",
            "Epoch 79/100\n",
            "359/359 - 0s - loss: 0.4265 - accuracy: 0.7991 - val_loss: 0.4169 - val_accuracy: 0.8100\n",
            "Epoch 80/100\n",
            "359/359 - 0s - loss: 0.4258 - accuracy: 0.8012 - val_loss: 0.4155 - val_accuracy: 0.8093\n",
            "Epoch 81/100\n",
            "359/359 - 0s - loss: 0.4261 - accuracy: 0.8003 - val_loss: 0.4174 - val_accuracy: 0.8069\n",
            "Epoch 82/100\n",
            "359/359 - 1s - loss: 0.4266 - accuracy: 0.8005 - val_loss: 0.4166 - val_accuracy: 0.8124\n",
            "Epoch 83/100\n",
            "359/359 - 1s - loss: 0.4261 - accuracy: 0.7977 - val_loss: 0.4170 - val_accuracy: 0.8038\n",
            "Epoch 84/100\n",
            "359/359 - 1s - loss: 0.4259 - accuracy: 0.7996 - val_loss: 0.4102 - val_accuracy: 0.8140\n",
            "Epoch 85/100\n",
            "359/359 - 0s - loss: 0.4248 - accuracy: 0.8003 - val_loss: 0.4143 - val_accuracy: 0.8132\n",
            "Epoch 86/100\n",
            "359/359 - 1s - loss: 0.4256 - accuracy: 0.8016 - val_loss: 0.4136 - val_accuracy: 0.8077\n",
            "Epoch 87/100\n",
            "359/359 - 0s - loss: 0.4265 - accuracy: 0.7972 - val_loss: 0.4184 - val_accuracy: 0.8046\n",
            "Epoch 88/100\n",
            "359/359 - 1s - loss: 0.4250 - accuracy: 0.8021 - val_loss: 0.4168 - val_accuracy: 0.8124\n",
            "Epoch 89/100\n",
            "359/359 - 0s - loss: 0.4251 - accuracy: 0.8008 - val_loss: 0.4209 - val_accuracy: 0.8014\n",
            "Epoch 90/100\n",
            "359/359 - 0s - loss: 0.4253 - accuracy: 0.8012 - val_loss: 0.4116 - val_accuracy: 0.8148\n",
            "Epoch 91/100\n",
            "359/359 - 1s - loss: 0.4249 - accuracy: 0.8001 - val_loss: 0.4151 - val_accuracy: 0.8093\n",
            "Epoch 92/100\n",
            "359/359 - 0s - loss: 0.4253 - accuracy: 0.7986 - val_loss: 0.4119 - val_accuracy: 0.8108\n",
            "Epoch 93/100\n",
            "359/359 - 0s - loss: 0.4241 - accuracy: 0.7998 - val_loss: 0.4145 - val_accuracy: 0.8140\n",
            "Epoch 94/100\n",
            "359/359 - 0s - loss: 0.4245 - accuracy: 0.7988 - val_loss: 0.4158 - val_accuracy: 0.8077\n",
            "Epoch 95/100\n",
            "359/359 - 1s - loss: 0.4251 - accuracy: 0.7987 - val_loss: 0.4126 - val_accuracy: 0.8093\n",
            "Epoch 96/100\n",
            "359/359 - 1s - loss: 0.4245 - accuracy: 0.7998 - val_loss: 0.4141 - val_accuracy: 0.8069\n",
            "Epoch 97/100\n",
            "359/359 - 1s - loss: 0.4239 - accuracy: 0.7990 - val_loss: 0.4132 - val_accuracy: 0.8093\n",
            "Epoch 98/100\n",
            "359/359 - 1s - loss: 0.4241 - accuracy: 0.7999 - val_loss: 0.4220 - val_accuracy: 0.8132\n",
            "Epoch 99/100\n",
            "359/359 - 1s - loss: 0.4236 - accuracy: 0.8012 - val_loss: 0.4140 - val_accuracy: 0.8085\n",
            "Epoch 100/100\n",
            "359/359 - 1s - loss: 0.4235 - accuracy: 0.8034 - val_loss: 0.4094 - val_accuracy: 0.8022\n"
          ],
          "name": "stdout"
        }
      ]
    },
    {
      "cell_type": "code",
      "metadata": {
        "colab": {
          "base_uri": "https://localhost:8080/"
        },
        "id": "20dNmOgw1vG8",
        "outputId": "b1e44b85-53b8-42e8-bf07-555d4277641b"
      },
      "source": [
        "y_pred = classifier.predict(x_test)\n",
        "print(y_pred[:5])\n",
        "y_pred = (y_pred > 0.5).astype(int)\n",
        "print(y_pred[:5])\n",
        "cm = confusion_matrix(y_test, y_pred)\n",
        "print(cm)"
      ],
      "execution_count": null,
      "outputs": [
        {
          "output_type": "stream",
          "text": [
            "[[0.43861252]\n",
            " [0.64832664]\n",
            " [0.323543  ]\n",
            " [0.75950694]\n",
            " [0.9944241 ]]\n",
            "[[0]\n",
            " [1]\n",
            " [0]\n",
            " [1]\n",
            " [1]]\n",
            "[[1271  322]\n",
            " [ 321 1272]]\n"
          ],
          "name": "stdout"
        }
      ]
    },
    {
      "cell_type": "code",
      "metadata": {
        "colab": {
          "base_uri": "https://localhost:8080/",
          "height": 282
        },
        "id": "2B2GuaaY2AbM",
        "outputId": "83a0651a-7d2e-4729-dd24-fea329075052"
      },
      "source": [
        "sns.heatmap(cm,annot=True,fmt='g')"
      ],
      "execution_count": null,
      "outputs": [
        {
          "output_type": "execute_result",
          "data": {
            "text/plain": [
              "<matplotlib.axes._subplots.AxesSubplot at 0x7f8ade9a3690>"
            ]
          },
          "metadata": {
            "tags": []
          },
          "execution_count": 26
        },
        {
          "output_type": "display_data",
          "data": {
            "image/png": "[encoded data removed]",
            "text/plain": [
              "<Figure size 432x288 with 2 Axes>"
            ]
          },
          "metadata": {
            "tags": []
          }
        }
      ]
    },
    {
      "cell_type": "code",
      "metadata": {
        "colab": {
          "base_uri": "https://localhost:8080/"
        },
        "id": "Mzja3n3q2Cqz",
        "outputId": "0ab7f90a-3d0e-4932-f278-69adcc4079e2"
      },
      "source": [
        "print (((cm[0][0]+cm[1][1])*100)/(len(y_test)), '% dát bolo klasifikovaných správne')"
      ],
      "execution_count": null,
      "outputs": [
        {
          "output_type": "stream",
          "text": [
            "79.8179535467671 % dát bolo klasifikovaných správne\n"
          ],
          "name": "stdout"
        }
      ]
    },
    {
      "cell_type": "code",
      "metadata": {
        "colab": {
          "base_uri": "https://localhost:8080/"
        },
        "id": "Hi2uiJQg2J40",
        "outputId": "85963de9-6e4f-46c3-d22e-8515cadabefe"
      },
      "source": [
        "print(classification_report(y_test, y_pred))"
      ],
      "execution_count": null,
      "outputs": [
        {
          "output_type": "stream",
          "text": [
            "              precision    recall  f1-score   support\n",
            "\n",
            "           0       0.80      0.80      0.80      1593\n",
            "           1       0.80      0.80      0.80      1593\n",
            "\n",
            "    accuracy                           0.80      3186\n",
            "   macro avg       0.80      0.80      0.80      3186\n",
            "weighted avg       0.80      0.80      0.80      3186\n",
            "\n"
          ],
          "name": "stdout"
        }
      ]
    },
    {
      "cell_type": "code",
      "metadata": {
        "id": "_2uuf6v72q9M"
      },
      "source": [
        ""
      ],
      "execution_count": null,
      "outputs": []
    }
  ]
}