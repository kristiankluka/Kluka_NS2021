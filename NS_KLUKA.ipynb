{
  "nbformat": 4,
  "nbformat_minor": 0,
  "metadata": {
    "colab": {
      "name": "NS_KLUKA.ipynb",
      "provenance": [],
      "toc_visible": true
    },
    "kernelspec": {
      "name": "python3",
      "display_name": "Python 3"
    },
    "language_info": {
      "name": "python"
    }
  },
  "cells": [
    {
      "cell_type": "markdown",
      "metadata": {
        "id": "SNqXz8-VBlpw"
      },
      "source": [
        "## O. Importy a načítanie datasetu\n"
      ]
    },
    {
      "cell_type": "code",
      "metadata": {
        "id": "okIJwhiJBQmu"
      },
      "source": [
        "import numpy as np\n",
        "import matplotlib.pyplot as plt\n",
        "import pandas as pd\n",
        "import seaborn as sns\n",
        "from sklearn.preprocessing import LabelEncoder\n",
        "from sklearn.preprocessing import StandardScaler, OneHotEncoder\n",
        "from sklearn.compose import ColumnTransformer\n",
        "from sklearn.pipeline import Pipeline\n",
        "from sklearn.model_selection import train_test_split"
      ],
      "execution_count": 1,
      "outputs": []
    },
    {
      "cell_type": "code",
      "metadata": {
        "id": "zoWZPM4_BdI_"
      },
      "source": [
        "#Import datasetu\n",
        "dataset = pd.read_csv('Churn_Modelling.csv', index_col='RowNumber')\n",
        "dataset.head()\n",
        "data_train2 = dataset.drop(['CustomerId','Surname'],axis=1)"
      ],
      "execution_count": 24,
      "outputs": []
    },
    {
      "cell_type": "markdown",
      "metadata": {
        "id": "aTMOp-L7EY7N"
      },
      "source": [
        "## 1. Príprava dát"
      ]
    },
    {
      "cell_type": "code",
      "metadata": {
        "colab": {
          "base_uri": "https://localhost:8080/"
        },
        "id": "8-VT16pqBj_1",
        "outputId": "dba086a6-aa4c-4adc-d45c-1bed6d2112cd"
      },
      "source": [
        "# rozdelenie datasetu na dáta a hodnoty True/False (0,1), ktoré odkazujú na to \n",
        "# či zákazník opustil banku alebo nie.\n",
        "X_col = dataset.columns.tolist()[2:12]\n",
        "y_col = dataset.columns.tolist()[-1:]\n",
        "print('Dáta', X_col)\n",
        "print('True/False', y_col)"
      ],
      "execution_count": 25,
      "outputs": [
        {
          "output_type": "stream",
          "text": [
            "Dáta ['CreditScore', 'Geography', 'Gender', 'Age', 'Tenure', 'Balance', 'NumOfProducts', 'HasCrCard', 'IsActiveMember', 'EstimatedSalary']\n",
            "True/False ['Exited']\n"
          ],
          "name": "stdout"
        }
      ]
    },
    {
      "cell_type": "code",
      "metadata": {
        "colab": {
          "base_uri": "https://localhost:8080/"
        },
        "id": "gCtjQF2IEH6c",
        "outputId": "3f59c52d-6d37-45ff-ca6e-df1c01e07804"
      },
      "source": [
        "# vytvorenie nummpy array z týchto stĺpcov\n",
        "X = dataset[X_col].values \n",
        "y = dataset[y_col].values\n",
        "X"
      ],
      "execution_count": 26,
      "outputs": [
        {
          "output_type": "execute_result",
          "data": {
            "text/plain": [
              "array([[619, 'France', 'Female', ..., 1, 1, 101348.88],\n",
              "       [608, 'Spain', 'Female', ..., 0, 1, 112542.58],\n",
              "       [502, 'France', 'Female', ..., 1, 0, 113931.57],\n",
              "       ...,\n",
              "       [709, 'France', 'Female', ..., 0, 1, 42085.58],\n",
              "       [772, 'Germany', 'Male', ..., 1, 0, 92888.52],\n",
              "       [792, 'France', 'Female', ..., 1, 0, 38190.78]], dtype=object)"
            ]
          },
          "metadata": {
            "tags": []
          },
          "execution_count": 26
        }
      ]
    },
    {
      "cell_type": "markdown",
      "metadata": {
        "id": "xbJIXh0CFMbS"
      },
      "source": [
        "Ako môžeme vidieť tak dáta obsahujú aj kategorické premenné, ktoré treba nahradiť."
      ]
    },
    {
      "cell_type": "code",
      "metadata": {
        "colab": {
          "base_uri": "https://localhost:8080/"
        },
        "id": "KrcJ5Xl_Ep0k",
        "outputId": "93b40f54-a9e2-46a0-c91c-980392e3b94e"
      },
      "source": [
        "encoder = LabelEncoder()\n",
        "X[:,1] = encoder.fit_transform(X[:,1]) # zmena krajiny na hodnoty vhodné pre analýzu (0-France,1-Germany,2-France)\n",
        "print('Krajina: ')\n",
        "print(X[:,1])\n",
        "X[:,2] = encoder.fit_transform(X[:,2]) # zmena pohlavia na hodnoty vhodné pre analýzu (0-Female, 1-Male)\n",
        "print('Pohlavie: ')\n",
        "print(X[:,2])"
      ],
      "execution_count": 27,
      "outputs": [
        {
          "output_type": "stream",
          "text": [
            "Krajina: \n",
            "[0 2 0 ... 0 1 0]\n",
            "Pohlavie: \n",
            "[0 0 0 ... 0 1 0]\n"
          ],
          "name": "stdout"
        }
      ]
    },
    {
      "cell_type": "code",
      "metadata": {
        "id": "B706wWbRFy89"
      },
      "source": [
        "pipeline = Pipeline(\n",
        "    [('Categorizer', ColumnTransformer(\n",
        "         [\n",
        "          (\"Gender\", OneHotEncoder(categories='auto', drop='first'), [2]),\n",
        "           \n",
        "          (\"Geography\", OneHotEncoder(categories='auto', drop='first'), [1])\n",
        "         ], remainder='passthrough', n_jobs=1)),\n",
        "     # Standard Scaler for the classifier\n",
        "    ('Normalizer', StandardScaler())\n",
        "    ])"
      ],
      "execution_count": 28,
      "outputs": []
    },
    {
      "cell_type": "code",
      "metadata": {
        "id": "JAIgJVIS-oEx"
      },
      "source": [
        ""
      ],
      "execution_count": 28,
      "outputs": []
    },
    {
      "cell_type": "code",
      "metadata": {
        "id": "5Q99ux-DJCMD"
      },
      "source": [
        "X = pipeline.fit_transform(X)"
      ],
      "execution_count": 29,
      "outputs": []
    },
    {
      "cell_type": "code",
      "metadata": {
        "id": "w3yED9QQJDlk"
      },
      "source": [
        "# Rozdelenie datasetu na testovacie a trénovacie dáta v pomere 30:70!!!!!!!!!!!!!!!!!!!!!!!!!!!!!!!!!!!!!!!!!!!!!!!!!!!!!!!!!!!!!!!!!!!!!!!!!!!!!!!!!!!\n",
        "X_train, X_test, y_train, y_test = train_test_split(X,y, test_size = 0.3, random_state = 0) "
      ],
      "execution_count": 30,
      "outputs": []
    },
    {
      "cell_type": "code",
      "metadata": {
        "colab": {
          "base_uri": "https://localhost:8080/"
        },
        "id": "AvQXyp2ZJEKr",
        "outputId": "fce34afa-1c52-49e0-b47f-8664b8f2788e"
      },
      "source": [
        "print(f'trai: {X_train.shape}, {y_train.shape}')\n",
        "print(f'test: {X_test.shape}, {y_test.shape}')"
      ],
      "execution_count": 31,
      "outputs": [
        {
          "output_type": "stream",
          "text": [
            "trai: (7000, 11), (7000, 1)\n",
            "test: (3000, 11), (3000, 1)\n"
          ],
          "name": "stdout"
        }
      ]
    },
    {
      "cell_type": "code",
      "metadata": {
        "id": "8iYBgXdgJ56r",
        "colab": {
          "base_uri": "https://localhost:8080/",
          "height": 297
        },
        "outputId": "7839d984-c175-4fa4-a668-0cfe093d1133"
      },
      "source": [
        "data2 = dataset.drop(['CustomerId','Surname'],axis=1)\n",
        "sns.set_style('whitegrid')\n",
        "sns.countplot(x='Exited',data=data2,palette='RdBu_r')\n",
        "# je vidieť, že dáta nie sú veľmi vyvážené."
      ],
      "execution_count": 34,
      "outputs": [
        {
          "output_type": "execute_result",
          "data": {
            "text/plain": [
              "<matplotlib.axes._subplots.AxesSubplot at 0x7fc50aec2e90>"
            ]
          },
          "metadata": {
            "tags": []
          },
          "execution_count": 34
        },
        {
          "output_type": "display_data",
          "data": {
            "image/png": "[encoded data removed]",
            "text/plain": [
              "<Figure size 432x288 with 1 Axes>"
            ]
          },
          "metadata": {
            "tags": []
          }
        }
      ]
    },
    {
      "cell_type": "code",
      "metadata": {
        "colab": {
          "base_uri": "https://localhost:8080/",
          "height": 279
        },
        "id": "qDU78xyw-Ken",
        "outputId": "511c94e7-25cf-4f0b-d11b-24aad1263638"
      },
      "source": [
        "plt.hist(data2.EstimatedSalary, bins=5\n",
        "         , rwidth=0.8)\n",
        "plt.xlabel('PLat')\n",
        "plt.ylabel('Počet')\n",
        "plt.show()"
      ],
      "execution_count": 36,
      "outputs": [
        {
          "output_type": "display_data",
          "data": {
            "image/png": "[encoded data removed]",
            "text/plain": [
              "<Figure size 432x288 with 1 Axes>"
            ]
          },
          "metadata": {
            "tags": []
          }
        }
      ]
    },
    {
      "cell_type": "markdown",
      "metadata": {
        "id": "J_vDH6oDByYC"
      },
      "source": [
        "##2. Vytvorenie NS"
      ]
    },
    {
      "cell_type": "code",
      "metadata": {
        "id": "WYNKc7u4_-Iq"
      },
      "source": [
        ""
      ],
      "execution_count": 41,
      "outputs": []
    },
    {
      "cell_type": "code",
      "metadata": {
        "id": "ystzhUktAVe5"
      },
      "source": [
        ""
      ],
      "execution_count": null,
      "outputs": []
    }
  ]
}